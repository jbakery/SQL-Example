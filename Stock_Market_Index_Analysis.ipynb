{
  "nbformat": 4,
  "nbformat_minor": 0,
  "metadata": {
    "colab": {
      "name": "Stock Market Index Analysis",
      "provenance": [],
      "collapsed_sections": [],
      "include_colab_link": true
    },
    "kernelspec": {
      "display_name": "Python 3",
      "name": "python3"
    },
    "language_info": {
      "name": "python"
    }
  },
  "cells": [
    {
      "cell_type": "markdown",
      "metadata": {
        "id": "view-in-github",
        "colab_type": "text"
      },
      "source": [
        "<a href=\"https://colab.research.google.com/github/jbakery/SQL-Example/blob/main/Stock_Market_Index_Analysis.ipynb\" target=\"_parent\"><img src=\"https://colab.research.google.com/assets/colab-badge.svg\" alt=\"Open In Colab\"/></a>"
      ]
    },
    {
      "cell_type": "markdown",
      "metadata": {
        "id": "GDmJ2F8XzVYO"
      },
      "source": [
        "Introduction to the Capstone 3 Notebook by Jaime Baker. \n",
        "\n",
        "This purposes of this analysis is to conduct a statistical T Test on German VS Chinese Stock index valuations and USA Vs Chinese Stock index valuations. \n",
        "\n",
        "The Data shows the prices in USD of various Stock Market indexes from around the world. For the purpose time, the Chinese stock market will be t tested against the German stock market index. \n",
        "\n",
        "The USA stock market index will be T tested against the Chinese stock Market Indext. \n",
        "\n",
        "If the Daily Averages are not statistically different then it can be a good multiplier for an investor. \n",
        "\n",
        "If the Daily Averages are statistically different then it can be a good diversifier for an investor helping mitigate risk. \n",
        "\n"
      ]
    },
    {
      "cell_type": "markdown",
      "metadata": {
        "id": "mfmCZ7Kk_xll"
      },
      "source": [
        "Summary:\n",
        "\n",
        "USA and Chinese Stock Market Indexes has statistically insignificant differences in Daily Averages. This could be an investment multiplier risk on. \n",
        "\n",
        "German Stock Market Index have Statistically Signnificant differences in Daily Averages. This could be an investment diversifier leading to risk off in an investment portfolio. \n"
      ]
    },
    {
      "cell_type": "code",
      "metadata": {
        "colab": {
          "resources": {
            "http://localhost:8080/nbextensions/google.colab/files.js": {
              "data": "Ly8gQ29weXJpZ2h0IDIwMTcgR29vZ2xlIExMQwovLwovLyBMaWNlbnNlZCB1bmRlciB0aGUgQXBhY2hlIExpY2Vuc2UsIFZlcnNpb24gMi4wICh0aGUgIkxpY2Vuc2UiKTsKLy8geW91IG1heSBub3QgdXNlIHRoaXMgZmlsZSBleGNlcHQgaW4gY29tcGxpYW5jZSB3aXRoIHRoZSBMaWNlbnNlLgovLyBZb3UgbWF5IG9idGFpbiBhIGNvcHkgb2YgdGhlIExpY2Vuc2UgYXQKLy8KLy8gICAgICBodHRwOi8vd3d3LmFwYWNoZS5vcmcvbGljZW5zZXMvTElDRU5TRS0yLjAKLy8KLy8gVW5sZXNzIHJlcXVpcmVkIGJ5IGFwcGxpY2FibGUgbGF3IG9yIGFncmVlZCB0byBpbiB3cml0aW5nLCBzb2Z0d2FyZQovLyBkaXN0cmlidXRlZCB1bmRlciB0aGUgTGljZW5zZSBpcyBkaXN0cmlidXRlZCBvbiBhbiAiQVMgSVMiIEJBU0lTLAovLyBXSVRIT1VUIFdBUlJBTlRJRVMgT1IgQ09ORElUSU9OUyBPRiBBTlkgS0lORCwgZWl0aGVyIGV4cHJlc3Mgb3IgaW1wbGllZC4KLy8gU2VlIHRoZSBMaWNlbnNlIGZvciB0aGUgc3BlY2lmaWMgbGFuZ3VhZ2UgZ292ZXJuaW5nIHBlcm1pc3Npb25zIGFuZAovLyBsaW1pdGF0aW9ucyB1bmRlciB0aGUgTGljZW5zZS4KCi8qKgogKiBAZmlsZW92ZXJ2aWV3IEhlbHBlcnMgZm9yIGdvb2dsZS5jb2xhYiBQeXRob24gbW9kdWxlLgogKi8KKGZ1bmN0aW9uKHNjb3BlKSB7CmZ1bmN0aW9uIHNwYW4odGV4dCwgc3R5bGVBdHRyaWJ1dGVzID0ge30pIHsKICBjb25zdCBlbGVtZW50ID0gZG9jdW1lbnQuY3JlYXRlRWxlbWVudCgnc3BhbicpOwogIGVsZW1lbnQudGV4dENvbnRlbnQgPSB0ZXh0OwogIGZvciAoY29uc3Qga2V5IG9mIE9iamVjdC5rZXlzKHN0eWxlQXR0cmlidXRlcykpIHsKICAgIGVsZW1lbnQuc3R5bGVba2V5XSA9IHN0eWxlQXR0cmlidXRlc1trZXldOwogIH0KICByZXR1cm4gZWxlbWVudDsKfQoKLy8gTWF4IG51bWJlciBvZiBieXRlcyB3aGljaCB3aWxsIGJlIHVwbG9hZGVkIGF0IGEgdGltZS4KY29uc3QgTUFYX1BBWUxPQURfU0laRSA9IDEwMCAqIDEwMjQ7CgpmdW5jdGlvbiBfdXBsb2FkRmlsZXMoaW5wdXRJZCwgb3V0cHV0SWQpIHsKICBjb25zdCBzdGVwcyA9IHVwbG9hZEZpbGVzU3RlcChpbnB1dElkLCBvdXRwdXRJZCk7CiAgY29uc3Qgb3V0cHV0RWxlbWVudCA9IGRvY3VtZW50LmdldEVsZW1lbnRCeUlkKG91dHB1dElkKTsKICAvLyBDYWNoZSBzdGVwcyBvbiB0aGUgb3V0cHV0RWxlbWVudCB0byBtYWtlIGl0IGF2YWlsYWJsZSBmb3IgdGhlIG5leHQgY2FsbAogIC8vIHRvIHVwbG9hZEZpbGVzQ29udGludWUgZnJvbSBQeXRob24uCiAgb3V0cHV0RWxlbWVudC5zdGVwcyA9IHN0ZXBzOwoKICByZXR1cm4gX3VwbG9hZEZpbGVzQ29udGludWUob3V0cHV0SWQpOwp9CgovLyBUaGlzIGlzIHJvdWdobHkgYW4gYXN5bmMgZ2VuZXJhdG9yIChub3Qgc3VwcG9ydGVkIGluIHRoZSBicm93c2VyIHlldCksCi8vIHdoZXJlIHRoZXJlIGFyZSBtdWx0aXBsZSBhc3luY2hyb25vdXMgc3RlcHMgYW5kIHRoZSBQeXRob24gc2lkZSBpcyBnb2luZwovLyB0byBwb2xsIGZvciBjb21wbGV0aW9uIG9mIGVhY2ggc3RlcC4KLy8gVGhpcyB1c2VzIGEgUHJvbWlzZSB0byBibG9jayB0aGUgcHl0aG9uIHNpZGUgb24gY29tcGxldGlvbiBvZiBlYWNoIHN0ZXAsCi8vIHRoZW4gcGFzc2VzIHRoZSByZXN1bHQgb2YgdGhlIHByZXZpb3VzIHN0ZXAgYXMgdGhlIGlucHV0IHRvIHRoZSBuZXh0IHN0ZXAuCmZ1bmN0aW9uIF91cGxvYWRGaWxlc0NvbnRpbnVlKG91dHB1dElkKSB7CiAgY29uc3Qgb3V0cHV0RWxlbWVudCA9IGRvY3VtZW50LmdldEVsZW1lbnRCeUlkKG91dHB1dElkKTsKICBjb25zdCBzdGVwcyA9IG91dHB1dEVsZW1lbnQuc3RlcHM7CgogIGNvbnN0IG5leHQgPSBzdGVwcy5uZXh0KG91dHB1dEVsZW1lbnQubGFzdFByb21pc2VWYWx1ZSk7CiAgcmV0dXJuIFByb21pc2UucmVzb2x2ZShuZXh0LnZhbHVlLnByb21pc2UpLnRoZW4oKHZhbHVlKSA9PiB7CiAgICAvLyBDYWNoZSB0aGUgbGFzdCBwcm9taXNlIHZhbHVlIHRvIG1ha2UgaXQgYXZhaWxhYmxlIHRvIHRoZSBuZXh0CiAgICAvLyBzdGVwIG9mIHRoZSBnZW5lcmF0b3IuCiAgICBvdXRwdXRFbGVtZW50Lmxhc3RQcm9taXNlVmFsdWUgPSB2YWx1ZTsKICAgIHJldHVybiBuZXh0LnZhbHVlLnJlc3BvbnNlOwogIH0pOwp9CgovKioKICogR2VuZXJhdG9yIGZ1bmN0aW9uIHdoaWNoIGlzIGNhbGxlZCBiZXR3ZWVuIGVhY2ggYXN5bmMgc3RlcCBvZiB0aGUgdXBsb2FkCiAqIHByb2Nlc3MuCiAqIEBwYXJhbSB7c3RyaW5nfSBpbnB1dElkIEVsZW1lbnQgSUQgb2YgdGhlIGlucHV0IGZpbGUgcGlja2VyIGVsZW1lbnQuCiAqIEBwYXJhbSB7c3RyaW5nfSBvdXRwdXRJZCBFbGVtZW50IElEIG9mIHRoZSBvdXRwdXQgZGlzcGxheS4KICogQHJldHVybiB7IUl0ZXJhYmxlPCFPYmplY3Q+fSBJdGVyYWJsZSBvZiBuZXh0IHN0ZXBzLgogKi8KZnVuY3Rpb24qIHVwbG9hZEZpbGVzU3RlcChpbnB1dElkLCBvdXRwdXRJZCkgewogIGNvbnN0IGlucHV0RWxlbWVudCA9IGRvY3VtZW50LmdldEVsZW1lbnRCeUlkKGlucHV0SWQpOwogIGlucHV0RWxlbWVudC5kaXNhYmxlZCA9IGZhbHNlOwoKICBjb25zdCBvdXRwdXRFbGVtZW50ID0gZG9jdW1lbnQuZ2V0RWxlbWVudEJ5SWQob3V0cHV0SWQpOwogIG91dHB1dEVsZW1lbnQuaW5uZXJIVE1MID0gJyc7CgogIGNvbnN0IHBpY2tlZFByb21pc2UgPSBuZXcgUHJvbWlzZSgocmVzb2x2ZSkgPT4gewogICAgaW5wdXRFbGVtZW50LmFkZEV2ZW50TGlzdGVuZXIoJ2NoYW5nZScsIChlKSA9PiB7CiAgICAgIHJlc29sdmUoZS50YXJnZXQuZmlsZXMpOwogICAgfSk7CiAgfSk7CgogIGNvbnN0IGNhbmNlbCA9IGRvY3VtZW50LmNyZWF0ZUVsZW1lbnQoJ2J1dHRvbicpOwogIGlucHV0RWxlbWVudC5wYXJlbnRFbGVtZW50LmFwcGVuZENoaWxkKGNhbmNlbCk7CiAgY2FuY2VsLnRleHRDb250ZW50ID0gJ0NhbmNlbCB1cGxvYWQnOwogIGNvbnN0IGNhbmNlbFByb21pc2UgPSBuZXcgUHJvbWlzZSgocmVzb2x2ZSkgPT4gewogICAgY2FuY2VsLm9uY2xpY2sgPSAoKSA9PiB7CiAgICAgIHJlc29sdmUobnVsbCk7CiAgICB9OwogIH0pOwoKICAvLyBXYWl0IGZvciB0aGUgdXNlciB0byBwaWNrIHRoZSBmaWxlcy4KICBjb25zdCBmaWxlcyA9IHlpZWxkIHsKICAgIHByb21pc2U6IFByb21pc2UucmFjZShbcGlja2VkUHJvbWlzZSwgY2FuY2VsUHJvbWlzZV0pLAogICAgcmVzcG9uc2U6IHsKICAgICAgYWN0aW9uOiAnc3RhcnRpbmcnLAogICAgfQogIH07CgogIGNhbmNlbC5yZW1vdmUoKTsKCiAgLy8gRGlzYWJsZSB0aGUgaW5wdXQgZWxlbWVudCBzaW5jZSBmdXJ0aGVyIHBpY2tzIGFyZSBub3QgYWxsb3dlZC4KICBpbnB1dEVsZW1lbnQuZGlzYWJsZWQgPSB0cnVlOwoKICBpZiAoIWZpbGVzKSB7CiAgICByZXR1cm4gewogICAgICByZXNwb25zZTogewogICAgICAgIGFjdGlvbjogJ2NvbXBsZXRlJywKICAgICAgfQogICAgfTsKICB9CgogIGZvciAoY29uc3QgZmlsZSBvZiBmaWxlcykgewogICAgY29uc3QgbGkgPSBkb2N1bWVudC5jcmVhdGVFbGVtZW50KCdsaScpOwogICAgbGkuYXBwZW5kKHNwYW4oZmlsZS5uYW1lLCB7Zm9udFdlaWdodDogJ2JvbGQnfSkpOwogICAgbGkuYXBwZW5kKHNwYW4oCiAgICAgICAgYCgke2ZpbGUudHlwZSB8fCAnbi9hJ30pIC0gJHtmaWxlLnNpemV9IGJ5dGVzLCBgICsKICAgICAgICBgbGFzdCBtb2RpZmllZDogJHsKICAgICAgICAgICAgZmlsZS5sYXN0TW9kaWZpZWREYXRlID8gZmlsZS5sYXN0TW9kaWZpZWREYXRlLnRvTG9jYWxlRGF0ZVN0cmluZygpIDoKICAgICAgICAgICAgICAgICAgICAgICAgICAgICAgICAgICAgJ24vYSd9IC0gYCkpOwogICAgY29uc3QgcGVyY2VudCA9IHNwYW4oJzAlIGRvbmUnKTsKICAgIGxpLmFwcGVuZENoaWxkKHBlcmNlbnQpOwoKICAgIG91dHB1dEVsZW1lbnQuYXBwZW5kQ2hpbGQobGkpOwoKICAgIGNvbnN0IGZpbGVEYXRhUHJvbWlzZSA9IG5ldyBQcm9taXNlKChyZXNvbHZlKSA9PiB7CiAgICAgIGNvbnN0IHJlYWRlciA9IG5ldyBGaWxlUmVhZGVyKCk7CiAgICAgIHJlYWRlci5vbmxvYWQgPSAoZSkgPT4gewogICAgICAgIHJlc29sdmUoZS50YXJnZXQucmVzdWx0KTsKICAgICAgfTsKICAgICAgcmVhZGVyLnJlYWRBc0FycmF5QnVmZmVyKGZpbGUpOwogICAgfSk7CiAgICAvLyBXYWl0IGZvciB0aGUgZGF0YSB0byBiZSByZWFkeS4KICAgIGxldCBmaWxlRGF0YSA9IHlpZWxkIHsKICAgICAgcHJvbWlzZTogZmlsZURhdGFQcm9taXNlLAogICAgICByZXNwb25zZTogewogICAgICAgIGFjdGlvbjogJ2NvbnRpbnVlJywKICAgICAgfQogICAgfTsKCiAgICAvLyBVc2UgYSBjaHVua2VkIHNlbmRpbmcgdG8gYXZvaWQgbWVzc2FnZSBzaXplIGxpbWl0cy4gU2VlIGIvNjIxMTU2NjAuCiAgICBsZXQgcG9zaXRpb24gPSAwOwogICAgZG8gewogICAgICBjb25zdCBsZW5ndGggPSBNYXRoLm1pbihmaWxlRGF0YS5ieXRlTGVuZ3RoIC0gcG9zaXRpb24sIE1BWF9QQVlMT0FEX1NJWkUpOwogICAgICBjb25zdCBjaHVuayA9IG5ldyBVaW50OEFycmF5KGZpbGVEYXRhLCBwb3NpdGlvbiwgbGVuZ3RoKTsKICAgICAgcG9zaXRpb24gKz0gbGVuZ3RoOwoKICAgICAgY29uc3QgYmFzZTY0ID0gYnRvYShTdHJpbmcuZnJvbUNoYXJDb2RlLmFwcGx5KG51bGwsIGNodW5rKSk7CiAgICAgIHlpZWxkIHsKICAgICAgICByZXNwb25zZTogewogICAgICAgICAgYWN0aW9uOiAnYXBwZW5kJywKICAgICAgICAgIGZpbGU6IGZpbGUubmFtZSwKICAgICAgICAgIGRhdGE6IGJhc2U2NCwKICAgICAgICB9LAogICAgICB9OwoKICAgICAgbGV0IHBlcmNlbnREb25lID0gZmlsZURhdGEuYnl0ZUxlbmd0aCA9PT0gMCA/CiAgICAgICAgICAxMDAgOgogICAgICAgICAgTWF0aC5yb3VuZCgocG9zaXRpb24gLyBmaWxlRGF0YS5ieXRlTGVuZ3RoKSAqIDEwMCk7CiAgICAgIHBlcmNlbnQudGV4dENvbnRlbnQgPSBgJHtwZXJjZW50RG9uZX0lIGRvbmVgOwoKICAgIH0gd2hpbGUgKHBvc2l0aW9uIDwgZmlsZURhdGEuYnl0ZUxlbmd0aCk7CiAgfQoKICAvLyBBbGwgZG9uZS4KICB5aWVsZCB7CiAgICByZXNwb25zZTogewogICAgICBhY3Rpb246ICdjb21wbGV0ZScsCiAgICB9CiAgfTsKfQoKc2NvcGUuZ29vZ2xlID0gc2NvcGUuZ29vZ2xlIHx8IHt9OwpzY29wZS5nb29nbGUuY29sYWIgPSBzY29wZS5nb29nbGUuY29sYWIgfHwge307CnNjb3BlLmdvb2dsZS5jb2xhYi5fZmlsZXMgPSB7CiAgX3VwbG9hZEZpbGVzLAogIF91cGxvYWRGaWxlc0NvbnRpbnVlLAp9Owp9KShzZWxmKTsK",
              "ok": true,
              "headers": [
                [
                  "content-type",
                  "application/javascript"
                ]
              ],
              "status": 200,
              "status_text": ""
            }
          },
          "base_uri": "https://localhost:8080/",
          "height": 72
        },
        "id": "vGq0PhsbFybE",
        "outputId": "d49433a1-10ae-4180-c3c1-cfe544849f49"
      },
      "source": [
        "#Local CSV File Upload\n",
        "\n",
        "from google.colab import files\n",
        "uploaded = files.upload()"
      ],
      "execution_count": null,
      "outputs": [
        {
          "output_type": "display_data",
          "data": {
            "text/html": [
              "\n",
              "     <input type=\"file\" id=\"files-b411dbec-be9f-4643-b2e9-0227c84bf206\" name=\"files[]\" multiple disabled\n",
              "        style=\"border:none\" />\n",
              "     <output id=\"result-b411dbec-be9f-4643-b2e9-0227c84bf206\">\n",
              "      Upload widget is only available when the cell has been executed in the\n",
              "      current browser session. Please rerun this cell to enable.\n",
              "      </output>\n",
              "      <script src=\"/nbextensions/google.colab/files.js\"></script> "
            ],
            "text/plain": [
              "<IPython.core.display.HTML object>"
            ]
          },
          "metadata": {
            "tags": []
          }
        },
        {
          "output_type": "stream",
          "text": [
            "Saving indexProcessed.csv to indexProcessed (3).csv\n"
          ],
          "name": "stdout"
        }
      ]
    },
    {
      "cell_type": "markdown",
      "metadata": {
        "id": "QIzEqlWZXjs2"
      },
      "source": [
        "This code allows the upload of a local CSV File for data analysis. I used this function to upload the CSV downloaded from the Kaggel Website."
      ]
    },
    {
      "cell_type": "code",
      "metadata": {
        "id": "8477kr_sGTfS"
      },
      "source": [
        "#Saving the CSV as a Data Frame\n",
        "\n",
        "import io\n",
        "import pandas as pd\n",
        "\n",
        "\n",
        "df2=pd.read_csv(io.BytesIO(uploaded['indexProcessed.csv']))"
      ],
      "execution_count": null,
      "outputs": []
    },
    {
      "cell_type": "markdown",
      "metadata": {
        "id": "pk2V_ui3YVDH"
      },
      "source": [
        "This line of code is saving the CVS do the Panda Data Frame with Varialble df2."
      ]
    },
    {
      "cell_type": "code",
      "metadata": {
        "colab": {
          "base_uri": "https://localhost:8080/",
          "height": 204
        },
        "id": "5scopbAbHdYR",
        "outputId": "a0f72a7b-e461-402e-92cf-7b2dce54a693"
      },
      "source": [
        "#Taking a peak at the CSV Data and columns.\n",
        "\n",
        "df2.head()"
      ],
      "execution_count": null,
      "outputs": [
        {
          "output_type": "execute_result",
          "data": {
            "text/html": [
              "<div>\n",
              "<style scoped>\n",
              "    .dataframe tbody tr th:only-of-type {\n",
              "        vertical-align: middle;\n",
              "    }\n",
              "\n",
              "    .dataframe tbody tr th {\n",
              "        vertical-align: top;\n",
              "    }\n",
              "\n",
              "    .dataframe thead th {\n",
              "        text-align: right;\n",
              "    }\n",
              "</style>\n",
              "<table border=\"1\" class=\"dataframe\">\n",
              "  <thead>\n",
              "    <tr style=\"text-align: right;\">\n",
              "      <th></th>\n",
              "      <th>Index</th>\n",
              "      <th>Date</th>\n",
              "      <th>Open</th>\n",
              "      <th>High</th>\n",
              "      <th>Low</th>\n",
              "      <th>Close</th>\n",
              "      <th>Adj Close</th>\n",
              "      <th>Volume</th>\n",
              "      <th>CloseUSD</th>\n",
              "      <th>Daily Average</th>\n",
              "      <th>Region</th>\n",
              "      <th>Exchange</th>\n",
              "      <th>Currency</th>\n",
              "    </tr>\n",
              "  </thead>\n",
              "  <tbody>\n",
              "    <tr>\n",
              "      <th>0</th>\n",
              "      <td>HSI</td>\n",
              "      <td>12/31/1986</td>\n",
              "      <td>2568.300049</td>\n",
              "      <td>2568.300049</td>\n",
              "      <td>2568.300049</td>\n",
              "      <td>2568.300049</td>\n",
              "      <td>2568.300049</td>\n",
              "      <td>0</td>\n",
              "      <td>333.879006</td>\n",
              "      <td>2568.300049</td>\n",
              "      <td>Hong Kong</td>\n",
              "      <td>Hong Kong Stock Exchange</td>\n",
              "      <td>HKD</td>\n",
              "    </tr>\n",
              "    <tr>\n",
              "      <th>1</th>\n",
              "      <td>HSI</td>\n",
              "      <td>1/2/1987</td>\n",
              "      <td>2540.100098</td>\n",
              "      <td>2540.100098</td>\n",
              "      <td>2540.100098</td>\n",
              "      <td>2540.100098</td>\n",
              "      <td>2540.100098</td>\n",
              "      <td>0</td>\n",
              "      <td>330.213013</td>\n",
              "      <td>2540.100098</td>\n",
              "      <td>Hong Kong</td>\n",
              "      <td>Hong Kong Stock Exchange</td>\n",
              "      <td>HKD</td>\n",
              "    </tr>\n",
              "    <tr>\n",
              "      <th>2</th>\n",
              "      <td>HSI</td>\n",
              "      <td>1/5/1987</td>\n",
              "      <td>2552.399902</td>\n",
              "      <td>2552.399902</td>\n",
              "      <td>2552.399902</td>\n",
              "      <td>2552.399902</td>\n",
              "      <td>2552.399902</td>\n",
              "      <td>0</td>\n",
              "      <td>331.811987</td>\n",
              "      <td>2552.399902</td>\n",
              "      <td>Hong Kong</td>\n",
              "      <td>Hong Kong Stock Exchange</td>\n",
              "      <td>HKD</td>\n",
              "    </tr>\n",
              "    <tr>\n",
              "      <th>3</th>\n",
              "      <td>HSI</td>\n",
              "      <td>1/6/1987</td>\n",
              "      <td>2583.899902</td>\n",
              "      <td>2583.899902</td>\n",
              "      <td>2583.899902</td>\n",
              "      <td>2583.899902</td>\n",
              "      <td>2583.899902</td>\n",
              "      <td>0</td>\n",
              "      <td>335.906987</td>\n",
              "      <td>2583.899902</td>\n",
              "      <td>Hong Kong</td>\n",
              "      <td>Hong Kong Stock Exchange</td>\n",
              "      <td>HKD</td>\n",
              "    </tr>\n",
              "    <tr>\n",
              "      <th>4</th>\n",
              "      <td>HSI</td>\n",
              "      <td>1/7/1987</td>\n",
              "      <td>2607.100098</td>\n",
              "      <td>2607.100098</td>\n",
              "      <td>2607.100098</td>\n",
              "      <td>2607.100098</td>\n",
              "      <td>2607.100098</td>\n",
              "      <td>0</td>\n",
              "      <td>338.923013</td>\n",
              "      <td>2607.100098</td>\n",
              "      <td>Hong Kong</td>\n",
              "      <td>Hong Kong Stock Exchange</td>\n",
              "      <td>HKD</td>\n",
              "    </tr>\n",
              "  </tbody>\n",
              "</table>\n",
              "</div>"
            ],
            "text/plain": [
              "  Index        Date         Open  ...     Region                  Exchange  Currency\n",
              "0   HSI  12/31/1986  2568.300049  ...  Hong Kong  Hong Kong Stock Exchange       HKD\n",
              "1   HSI    1/2/1987  2540.100098  ...  Hong Kong  Hong Kong Stock Exchange       HKD\n",
              "2   HSI    1/5/1987  2552.399902  ...  Hong Kong  Hong Kong Stock Exchange       HKD\n",
              "3   HSI    1/6/1987  2583.899902  ...  Hong Kong  Hong Kong Stock Exchange       HKD\n",
              "4   HSI    1/7/1987  2607.100098  ...  Hong Kong  Hong Kong Stock Exchange       HKD\n",
              "\n",
              "[5 rows x 13 columns]"
            ]
          },
          "metadata": {
            "tags": []
          },
          "execution_count": 94
        }
      ]
    },
    {
      "cell_type": "markdown",
      "metadata": {
        "id": "VGMJa17XYe03"
      },
      "source": [
        "Here I am using .head() method to take preview of the Data. The goal is to get a general idea and feel for the data. "
      ]
    },
    {
      "cell_type": "code",
      "metadata": {
        "colab": {
          "base_uri": "https://localhost:8080/"
        },
        "id": "p-kxGpejH02g",
        "outputId": "38305398-6ec6-4986-f68b-4d6ec868dac5"
      },
      "source": [
        "#Describing Data Types\n",
        "\n",
        "df2.info()"
      ],
      "execution_count": null,
      "outputs": [
        {
          "output_type": "stream",
          "text": [
            "<class 'pandas.core.frame.DataFrame'>\n",
            "RangeIndex: 104224 entries, 0 to 104223\n",
            "Data columns (total 13 columns):\n",
            " #   Column         Non-Null Count   Dtype  \n",
            "---  ------         --------------   -----  \n",
            " 0   Index          104224 non-null  object \n",
            " 1   Date           104224 non-null  object \n",
            " 2   Open           104224 non-null  float64\n",
            " 3   High           104224 non-null  float64\n",
            " 4   Low            104224 non-null  float64\n",
            " 5   Close          104224 non-null  float64\n",
            " 6   Adj Close      104224 non-null  float64\n",
            " 7   Volume         104224 non-null  int64  \n",
            " 8   CloseUSD       104224 non-null  float64\n",
            " 9   Daily Average  104224 non-null  float64\n",
            " 10  Region         104224 non-null  object \n",
            " 11  Exchange       104224 non-null  object \n",
            " 12  Currency       104224 non-null  object \n",
            "dtypes: float64(7), int64(1), object(5)\n",
            "memory usage: 10.3+ MB\n"
          ],
          "name": "stdout"
        }
      ]
    },
    {
      "cell_type": "markdown",
      "metadata": {
        "id": "nGqerC6uY5VG"
      },
      "source": [
        "Studying data attributes."
      ]
    },
    {
      "cell_type": "code",
      "metadata": {
        "colab": {
          "base_uri": "https://localhost:8080/"
        },
        "id": "lqmF6rmeFUzJ",
        "outputId": "dbd6d061-cb2a-4011-8071-273006a2f4cd"
      },
      "source": [
        "#Curious about what it would look like\n",
        "\n",
        "print(df2)"
      ],
      "execution_count": null,
      "outputs": [
        {
          "output_type": "stream",
          "text": [
            "          Index        Date  ...                     Exchange  Currency\n",
            "0           HSI  12/31/1986  ...     Hong Kong Stock Exchange       HKD\n",
            "1           HSI    1/2/1987  ...     Hong Kong Stock Exchange       HKD\n",
            "2           HSI    1/5/1987  ...     Hong Kong Stock Exchange       HKD\n",
            "3           HSI    1/6/1987  ...     Hong Kong Stock Exchange       HKD\n",
            "4           HSI    1/7/1987  ...     Hong Kong Stock Exchange       HKD\n",
            "...         ...         ...  ...                          ...       ...\n",
            "104219  J203.JO   5/25/2021  ...  Johannesburg Stock Exchange       ZAR\n",
            "104220  J203.JO   5/26/2021  ...  Johannesburg Stock Exchange       ZAR\n",
            "104221  J203.JO   5/27/2021  ...  Johannesburg Stock Exchange       ZAR\n",
            "104222  J203.JO   5/28/2021  ...  Johannesburg Stock Exchange       ZAR\n",
            "104223  J203.JO   5/31/2021  ...  Johannesburg Stock Exchange       ZAR\n",
            "\n",
            "[104224 rows x 13 columns]\n"
          ],
          "name": "stdout"
        }
      ]
    },
    {
      "cell_type": "code",
      "metadata": {
        "id": "rfyxhUCOT6-U"
      },
      "source": [
        "# Descriptive stats Guide https://pandas.pydata.org/pandas-docs/stable/getting_started/intro_tutorials/06_calculate_statistics.html"
      ],
      "execution_count": null,
      "outputs": []
    },
    {
      "cell_type": "code",
      "metadata": {
        "colab": {
          "base_uri": "https://localhost:8080/",
          "height": 297
        },
        "id": "clyGCwjKIG6j",
        "outputId": "b176610d-9338-458e-e6d1-6e8c351799f4"
      },
      "source": [
        "# This Method is giving me the basic Decriptive Stats for the whole Data Frame\n",
        "\n",
        "df2.describe()"
      ],
      "execution_count": null,
      "outputs": [
        {
          "output_type": "execute_result",
          "data": {
            "text/html": [
              "<div>\n",
              "<style scoped>\n",
              "    .dataframe tbody tr th:only-of-type {\n",
              "        vertical-align: middle;\n",
              "    }\n",
              "\n",
              "    .dataframe tbody tr th {\n",
              "        vertical-align: top;\n",
              "    }\n",
              "\n",
              "    .dataframe thead th {\n",
              "        text-align: right;\n",
              "    }\n",
              "</style>\n",
              "<table border=\"1\" class=\"dataframe\">\n",
              "  <thead>\n",
              "    <tr style=\"text-align: right;\">\n",
              "      <th></th>\n",
              "      <th>Open</th>\n",
              "      <th>High</th>\n",
              "      <th>Low</th>\n",
              "      <th>Close</th>\n",
              "      <th>Adj Close</th>\n",
              "      <th>Volume</th>\n",
              "      <th>CloseUSD</th>\n",
              "      <th>Daily Average</th>\n",
              "    </tr>\n",
              "  </thead>\n",
              "  <tbody>\n",
              "    <tr>\n",
              "      <th>count</th>\n",
              "      <td>104224.000000</td>\n",
              "      <td>104224.000000</td>\n",
              "      <td>104224.000000</td>\n",
              "      <td>104224.000000</td>\n",
              "      <td>104224.000000</td>\n",
              "      <td>1.042240e+05</td>\n",
              "      <td>104224.000000</td>\n",
              "      <td>104224.000000</td>\n",
              "    </tr>\n",
              "    <tr>\n",
              "      <th>mean</th>\n",
              "      <td>8015.353334</td>\n",
              "      <td>8063.324234</td>\n",
              "      <td>7962.581120</td>\n",
              "      <td>8014.366642</td>\n",
              "      <td>8014.161269</td>\n",
              "      <td>1.347646e+09</td>\n",
              "      <td>3046.729177</td>\n",
              "      <td>8012.952678</td>\n",
              "    </tr>\n",
              "    <tr>\n",
              "      <th>std</th>\n",
              "      <td>9140.563404</td>\n",
              "      <td>9196.575802</td>\n",
              "      <td>9082.767802</td>\n",
              "      <td>9140.609758</td>\n",
              "      <td>9140.720456</td>\n",
              "      <td>4.427662e+09</td>\n",
              "      <td>3747.865623</td>\n",
              "      <td>9139.509759</td>\n",
              "    </tr>\n",
              "    <tr>\n",
              "      <th>min</th>\n",
              "      <td>54.869999</td>\n",
              "      <td>54.869999</td>\n",
              "      <td>54.869999</td>\n",
              "      <td>54.869999</td>\n",
              "      <td>54.869999</td>\n",
              "      <td>0.000000e+00</td>\n",
              "      <td>10.204900</td>\n",
              "      <td>54.869999</td>\n",
              "    </tr>\n",
              "    <tr>\n",
              "      <th>25%</th>\n",
              "      <td>2046.887756</td>\n",
              "      <td>2057.213990</td>\n",
              "      <td>2037.185943</td>\n",
              "      <td>2047.506470</td>\n",
              "      <td>2047.358490</td>\n",
              "      <td>0.000000e+00</td>\n",
              "      <td>320.460898</td>\n",
              "      <td>2047.554978</td>\n",
              "    </tr>\n",
              "    <tr>\n",
              "      <th>50%</th>\n",
              "      <td>5772.140137</td>\n",
              "      <td>5812.764892</td>\n",
              "      <td>5725.199951</td>\n",
              "      <td>5773.710205</td>\n",
              "      <td>5773.710205</td>\n",
              "      <td>9.529000e+05</td>\n",
              "      <td>1371.598487</td>\n",
              "      <td>5771.112549</td>\n",
              "    </tr>\n",
              "    <tr>\n",
              "      <th>75%</th>\n",
              "      <td>10487.377445</td>\n",
              "      <td>10552.179690</td>\n",
              "      <td>10416.092287</td>\n",
              "      <td>10488.622560</td>\n",
              "      <td>10488.622560</td>\n",
              "      <td>2.064676e+08</td>\n",
              "      <td>4383.045241</td>\n",
              "      <td>10486.621340</td>\n",
              "    </tr>\n",
              "    <tr>\n",
              "      <th>max</th>\n",
              "      <td>68775.062500</td>\n",
              "      <td>69403.750000</td>\n",
              "      <td>68516.992190</td>\n",
              "      <td>68775.062500</td>\n",
              "      <td>68775.062500</td>\n",
              "      <td>9.440374e+10</td>\n",
              "      <td>18934.376170</td>\n",
              "      <td>68815.226570</td>\n",
              "    </tr>\n",
              "  </tbody>\n",
              "</table>\n",
              "</div>"
            ],
            "text/plain": [
              "                Open           High  ...       CloseUSD  Daily Average\n",
              "count  104224.000000  104224.000000  ...  104224.000000  104224.000000\n",
              "mean     8015.353334    8063.324234  ...    3046.729177    8012.952678\n",
              "std      9140.563404    9196.575802  ...    3747.865623    9139.509759\n",
              "min        54.869999      54.869999  ...      10.204900      54.869999\n",
              "25%      2046.887756    2057.213990  ...     320.460898    2047.554978\n",
              "50%      5772.140137    5812.764892  ...    1371.598487    5771.112549\n",
              "75%     10487.377445   10552.179690  ...    4383.045241   10486.621340\n",
              "max     68775.062500   69403.750000  ...   18934.376170   68815.226570\n",
              "\n",
              "[8 rows x 8 columns]"
            ]
          },
          "metadata": {
            "tags": []
          },
          "execution_count": 98
        }
      ]
    },
    {
      "cell_type": "markdown",
      "metadata": {
        "id": "65-kSj13ZAlP"
      },
      "source": [
        "This is the first step in the actual statistical analysis. I am using the describe method to get a general picture of how the data looks. \n",
        "\n",
        "Count tells me how many data point there are in each column. \n",
        "\n",
        "Mean is giving me the average value in each column.\n",
        "\n",
        "Std = Standard Deviation is how far the data is distanced from the average. \n",
        "\n",
        "Min: is giving the minimum value in each column.\n",
        "\n",
        "25% is the mean +- the standard deviation. \n",
        "50% is the mean +- two standard deviations. \n",
        "75% is the mean +- three standard devations. \n",
        "\n",
        "Max = is the maximum value in each column.\n",
        "\n",
        "\n",
        "\n"
      ]
    },
    {
      "cell_type": "code",
      "metadata": {
        "colab": {
          "base_uri": "https://localhost:8080/"
        },
        "id": "q_kucXcmq5te",
        "outputId": "fe8c63f7-e5c1-47bb-a3db-6e18f6a98521"
      },
      "source": [
        "#Just Playing Around Exploring\n",
        "\n",
        "df2.value_counts"
      ],
      "execution_count": null,
      "outputs": [
        {
          "output_type": "execute_result",
          "data": {
            "text/plain": [
              "<bound method DataFrame.value_counts of           Index        Date  ...                     Exchange  Currency\n",
              "0           HSI  12/31/1986  ...     Hong Kong Stock Exchange       HKD\n",
              "1           HSI    1/2/1987  ...     Hong Kong Stock Exchange       HKD\n",
              "2           HSI    1/5/1987  ...     Hong Kong Stock Exchange       HKD\n",
              "3           HSI    1/6/1987  ...     Hong Kong Stock Exchange       HKD\n",
              "4           HSI    1/7/1987  ...     Hong Kong Stock Exchange       HKD\n",
              "...         ...         ...  ...                          ...       ...\n",
              "104219  J203.JO   5/25/2021  ...  Johannesburg Stock Exchange       ZAR\n",
              "104220  J203.JO   5/26/2021  ...  Johannesburg Stock Exchange       ZAR\n",
              "104221  J203.JO   5/27/2021  ...  Johannesburg Stock Exchange       ZAR\n",
              "104222  J203.JO   5/28/2021  ...  Johannesburg Stock Exchange       ZAR\n",
              "104223  J203.JO   5/31/2021  ...  Johannesburg Stock Exchange       ZAR\n",
              "\n",
              "[104224 rows x 13 columns]>"
            ]
          },
          "metadata": {
            "tags": []
          },
          "execution_count": 99
        }
      ]
    },
    {
      "cell_type": "code",
      "metadata": {
        "colab": {
          "base_uri": "https://localhost:8080/",
          "height": 204
        },
        "id": "YhAvleOer9lC",
        "outputId": "6cfe0d92-edb6-4054-ac5b-de714ae0f58d"
      },
      "source": [
        "# I want to T Test Germany VS China, and USA VS China\n",
        "#I had to figure out how to filter for those countries. \n",
        "\n",
        "#Hypopthesis: The German stock exchange index prices move with the Chinese stock exchange.\n",
        "#Null Hypothesis The German stock exchange index prices do not move with the Chinese stock exchange.\n",
        "\n",
        "\n",
        "import numpy as np\n",
        "import pandas as pd\n",
        "\n",
        "df2.query('Region == \"Germany\" ')\n",
        "\n",
        "#Saving Germany filter data as a data frame so I can call it\n",
        "df_germany=df2\n",
        "dfg=df2.query('Region == \"Germany\" ')\n",
        "\n",
        "#Exploring to make sure the filter didnt change the column\n",
        "\n",
        "dfg.head()\n",
        "\n"
      ],
      "execution_count": null,
      "outputs": [
        {
          "output_type": "execute_result",
          "data": {
            "text/html": [
              "<div>\n",
              "<style scoped>\n",
              "    .dataframe tbody tr th:only-of-type {\n",
              "        vertical-align: middle;\n",
              "    }\n",
              "\n",
              "    .dataframe tbody tr th {\n",
              "        vertical-align: top;\n",
              "    }\n",
              "\n",
              "    .dataframe thead th {\n",
              "        text-align: right;\n",
              "    }\n",
              "</style>\n",
              "<table border=\"1\" class=\"dataframe\">\n",
              "  <thead>\n",
              "    <tr style=\"text-align: right;\">\n",
              "      <th></th>\n",
              "      <th>Index</th>\n",
              "      <th>Date</th>\n",
              "      <th>Open</th>\n",
              "      <th>High</th>\n",
              "      <th>Low</th>\n",
              "      <th>Close</th>\n",
              "      <th>Adj Close</th>\n",
              "      <th>Volume</th>\n",
              "      <th>CloseUSD</th>\n",
              "      <th>Daily Average</th>\n",
              "      <th>Region</th>\n",
              "      <th>Exchange</th>\n",
              "      <th>Currency</th>\n",
              "    </tr>\n",
              "  </thead>\n",
              "  <tbody>\n",
              "    <tr>\n",
              "      <th>79900</th>\n",
              "      <td>GDAXI</td>\n",
              "      <td>12/30/1987</td>\n",
              "      <td>1005.190002</td>\n",
              "      <td>1005.190002</td>\n",
              "      <td>1005.190002</td>\n",
              "      <td>1005.190002</td>\n",
              "      <td>1005.190002</td>\n",
              "      <td>0</td>\n",
              "      <td>1226.331802</td>\n",
              "      <td>1005.190002</td>\n",
              "      <td>Germany</td>\n",
              "      <td>Frankfurt Stock Exchange</td>\n",
              "      <td>EUR</td>\n",
              "    </tr>\n",
              "    <tr>\n",
              "      <th>79901</th>\n",
              "      <td>GDAXI</td>\n",
              "      <td>1/4/1988</td>\n",
              "      <td>956.489990</td>\n",
              "      <td>956.489990</td>\n",
              "      <td>956.489990</td>\n",
              "      <td>956.489990</td>\n",
              "      <td>956.489990</td>\n",
              "      <td>0</td>\n",
              "      <td>1166.917788</td>\n",
              "      <td>956.489990</td>\n",
              "      <td>Germany</td>\n",
              "      <td>Frankfurt Stock Exchange</td>\n",
              "      <td>EUR</td>\n",
              "    </tr>\n",
              "    <tr>\n",
              "      <th>79902</th>\n",
              "      <td>GDAXI</td>\n",
              "      <td>1/5/1988</td>\n",
              "      <td>996.099976</td>\n",
              "      <td>996.099976</td>\n",
              "      <td>996.099976</td>\n",
              "      <td>996.099976</td>\n",
              "      <td>996.099976</td>\n",
              "      <td>0</td>\n",
              "      <td>1215.241971</td>\n",
              "      <td>996.099976</td>\n",
              "      <td>Germany</td>\n",
              "      <td>Frankfurt Stock Exchange</td>\n",
              "      <td>EUR</td>\n",
              "    </tr>\n",
              "    <tr>\n",
              "      <th>79903</th>\n",
              "      <td>GDAXI</td>\n",
              "      <td>1/6/1988</td>\n",
              "      <td>1006.010010</td>\n",
              "      <td>1006.010010</td>\n",
              "      <td>1006.010010</td>\n",
              "      <td>1006.010010</td>\n",
              "      <td>1006.010010</td>\n",
              "      <td>0</td>\n",
              "      <td>1227.332212</td>\n",
              "      <td>1006.010010</td>\n",
              "      <td>Germany</td>\n",
              "      <td>Frankfurt Stock Exchange</td>\n",
              "      <td>EUR</td>\n",
              "    </tr>\n",
              "    <tr>\n",
              "      <th>79904</th>\n",
              "      <td>GDAXI</td>\n",
              "      <td>1/7/1988</td>\n",
              "      <td>1014.469971</td>\n",
              "      <td>1014.469971</td>\n",
              "      <td>1014.469971</td>\n",
              "      <td>1014.469971</td>\n",
              "      <td>1014.469971</td>\n",
              "      <td>0</td>\n",
              "      <td>1237.653365</td>\n",
              "      <td>1014.469971</td>\n",
              "      <td>Germany</td>\n",
              "      <td>Frankfurt Stock Exchange</td>\n",
              "      <td>EUR</td>\n",
              "    </tr>\n",
              "  </tbody>\n",
              "</table>\n",
              "</div>"
            ],
            "text/plain": [
              "       Index        Date  ...                  Exchange  Currency\n",
              "79900  GDAXI  12/30/1987  ...  Frankfurt Stock Exchange       EUR\n",
              "79901  GDAXI    1/4/1988  ...  Frankfurt Stock Exchange       EUR\n",
              "79902  GDAXI    1/5/1988  ...  Frankfurt Stock Exchange       EUR\n",
              "79903  GDAXI    1/6/1988  ...  Frankfurt Stock Exchange       EUR\n",
              "79904  GDAXI    1/7/1988  ...  Frankfurt Stock Exchange       EUR\n",
              "\n",
              "[5 rows x 13 columns]"
            ]
          },
          "metadata": {
            "tags": []
          },
          "execution_count": 103
        }
      ]
    },
    {
      "cell_type": "markdown",
      "metadata": {
        "id": "E1c3bNnifZco"
      },
      "source": [
        "Hypothesis: The German stock exchange index prices do not move with the Chinese stock exchange.\n",
        "Null Hypothesis The German stock exchange index prices move with the Chinese stock exchange.\n",
        "\n",
        "Here I am starting the Statistical T Test. The issue is that the data is aggregated and unfiltered. I want to isolate all **values for Region Germany **so I can do a T - TEST of Germany Vs China. \n",
        "\n",
        "So I use the .query method\n",
        "\n",
        "After doing the query I save the Data Frame into a different variable dfg so I can access **the** results easily in the future."
      ]
    },
    {
      "cell_type": "code",
      "metadata": {
        "colab": {
          "base_uri": "https://localhost:8080/",
          "height": 17
        },
        "id": "t2ucmVAjqkw8",
        "outputId": "3cabaef7-8c0d-42eb-ce56-56283a6e7cd5"
      },
      "source": [
        "#Germany Describe Data\n",
        "\n",
        "from google.colab import files\n",
        "dfg.describe().to_csv(\"testg.csv\")\n",
        "files.download('testg.csv')"
      ],
      "execution_count": null,
      "outputs": [
        {
          "output_type": "display_data",
          "data": {
            "application/javascript": [
              "\n",
              "    async function download(id, filename, size) {\n",
              "      if (!google.colab.kernel.accessAllowed) {\n",
              "        return;\n",
              "      }\n",
              "      const div = document.createElement('div');\n",
              "      const label = document.createElement('label');\n",
              "      label.textContent = `Downloading \"${filename}\": `;\n",
              "      div.appendChild(label);\n",
              "      const progress = document.createElement('progress');\n",
              "      progress.max = size;\n",
              "      div.appendChild(progress);\n",
              "      document.body.appendChild(div);\n",
              "\n",
              "      const buffers = [];\n",
              "      let downloaded = 0;\n",
              "\n",
              "      const channel = await google.colab.kernel.comms.open(id);\n",
              "      // Send a message to notify the kernel that we're ready.\n",
              "      channel.send({})\n",
              "\n",
              "      for await (const message of channel.messages) {\n",
              "        // Send a message to notify the kernel that we're ready.\n",
              "        channel.send({})\n",
              "        if (message.buffers) {\n",
              "          for (const buffer of message.buffers) {\n",
              "            buffers.push(buffer);\n",
              "            downloaded += buffer.byteLength;\n",
              "            progress.value = downloaded;\n",
              "          }\n",
              "        }\n",
              "      }\n",
              "      const blob = new Blob(buffers, {type: 'application/binary'});\n",
              "      const a = document.createElement('a');\n",
              "      a.href = window.URL.createObjectURL(blob);\n",
              "      a.download = filename;\n",
              "      div.appendChild(a);\n",
              "      a.click();\n",
              "      div.remove();\n",
              "    }\n",
              "  "
            ],
            "text/plain": [
              "<IPython.core.display.Javascript object>"
            ]
          },
          "metadata": {
            "tags": []
          }
        },
        {
          "output_type": "display_data",
          "data": {
            "application/javascript": [
              "download(\"download_bf190130-b6ce-4002-9577-5057ad321265\", \"testg.csv\", 940)"
            ],
            "text/plain": [
              "<IPython.core.display.Javascript object>"
            ]
          },
          "metadata": {
            "tags": []
          }
        }
      ]
    },
    {
      "cell_type": "code",
      "metadata": {
        "colab": {
          "base_uri": "https://localhost:8080/",
          "height": 297
        },
        "id": "Tsl04etzx95p",
        "outputId": "80dc649a-faf7-44fa-cfc8-65e434895306"
      },
      "source": [
        "#Getting Descriptive Stats on Germany\n",
        "\n",
        "dfg.describe()"
      ],
      "execution_count": null,
      "outputs": [
        {
          "output_type": "execute_result",
          "data": {
            "text/html": [
              "<div>\n",
              "<style scoped>\n",
              "    .dataframe tbody tr th:only-of-type {\n",
              "        vertical-align: middle;\n",
              "    }\n",
              "\n",
              "    .dataframe tbody tr th {\n",
              "        vertical-align: top;\n",
              "    }\n",
              "\n",
              "    .dataframe thead th {\n",
              "        text-align: right;\n",
              "    }\n",
              "</style>\n",
              "<table border=\"1\" class=\"dataframe\">\n",
              "  <thead>\n",
              "    <tr style=\"text-align: right;\">\n",
              "      <th></th>\n",
              "      <th>Open</th>\n",
              "      <th>High</th>\n",
              "      <th>Low</th>\n",
              "      <th>Close</th>\n",
              "      <th>Adj Close</th>\n",
              "      <th>Volume</th>\n",
              "      <th>CloseUSD</th>\n",
              "      <th>Daily Average</th>\n",
              "    </tr>\n",
              "  </thead>\n",
              "  <tbody>\n",
              "    <tr>\n",
              "      <th>count</th>\n",
              "      <td>8438.000000</td>\n",
              "      <td>8438.000000</td>\n",
              "      <td>8438.000000</td>\n",
              "      <td>8438.000000</td>\n",
              "      <td>8438.000000</td>\n",
              "      <td>8.438000e+03</td>\n",
              "      <td>8438.000000</td>\n",
              "      <td>8438.000000</td>\n",
              "    </tr>\n",
              "    <tr>\n",
              "      <th>mean</th>\n",
              "      <td>5915.549220</td>\n",
              "      <td>5956.941632</td>\n",
              "      <td>5869.720949</td>\n",
              "      <td>5914.846717</td>\n",
              "      <td>5914.846717</td>\n",
              "      <td>6.830384e+07</td>\n",
              "      <td>7216.112995</td>\n",
              "      <td>5913.331291</td>\n",
              "    </tr>\n",
              "    <tr>\n",
              "      <th>std</th>\n",
              "      <td>3649.999809</td>\n",
              "      <td>3671.929430</td>\n",
              "      <td>3625.892186</td>\n",
              "      <td>3649.624493</td>\n",
              "      <td>3649.624493</td>\n",
              "      <td>6.475934e+07</td>\n",
              "      <td>4452.541882</td>\n",
              "      <td>3648.765465</td>\n",
              "    </tr>\n",
              "    <tr>\n",
              "      <th>min</th>\n",
              "      <td>936.000000</td>\n",
              "      <td>936.000000</td>\n",
              "      <td>936.000000</td>\n",
              "      <td>936.000000</td>\n",
              "      <td>936.000000</td>\n",
              "      <td>0.000000e+00</td>\n",
              "      <td>1141.920000</td>\n",
              "      <td>936.000000</td>\n",
              "    </tr>\n",
              "    <tr>\n",
              "      <th>25%</th>\n",
              "      <td>2513.420044</td>\n",
              "      <td>2530.242431</td>\n",
              "      <td>2492.747559</td>\n",
              "      <td>2513.614990</td>\n",
              "      <td>2513.614990</td>\n",
              "      <td>0.000000e+00</td>\n",
              "      <td>3066.610289</td>\n",
              "      <td>2512.447510</td>\n",
              "    </tr>\n",
              "    <tr>\n",
              "      <th>50%</th>\n",
              "      <td>5404.735107</td>\n",
              "      <td>5453.320069</td>\n",
              "      <td>5352.900147</td>\n",
              "      <td>5401.109863</td>\n",
              "      <td>5401.109863</td>\n",
              "      <td>7.312590e+07</td>\n",
              "      <td>6589.354033</td>\n",
              "      <td>5399.382447</td>\n",
              "    </tr>\n",
              "    <tr>\n",
              "      <th>75%</th>\n",
              "      <td>7916.622436</td>\n",
              "      <td>7965.574951</td>\n",
              "      <td>7859.397461</td>\n",
              "      <td>7920.977417</td>\n",
              "      <td>7920.977417</td>\n",
              "      <td>1.068676e+08</td>\n",
              "      <td>9663.592448</td>\n",
              "      <td>7915.771241</td>\n",
              "    </tr>\n",
              "    <tr>\n",
              "      <th>max</th>\n",
              "      <td>15548.290040</td>\n",
              "      <td>15568.599610</td>\n",
              "      <td>15465.089840</td>\n",
              "      <td>15519.980470</td>\n",
              "      <td>15519.980470</td>\n",
              "      <td>5.101956e+08</td>\n",
              "      <td>18934.376170</td>\n",
              "      <td>15516.844730</td>\n",
              "    </tr>\n",
              "  </tbody>\n",
              "</table>\n",
              "</div>"
            ],
            "text/plain": [
              "               Open          High  ...      CloseUSD  Daily Average\n",
              "count   8438.000000   8438.000000  ...   8438.000000    8438.000000\n",
              "mean    5915.549220   5956.941632  ...   7216.112995    5913.331291\n",
              "std     3649.999809   3671.929430  ...   4452.541882    3648.765465\n",
              "min      936.000000    936.000000  ...   1141.920000     936.000000\n",
              "25%     2513.420044   2530.242431  ...   3066.610289    2512.447510\n",
              "50%     5404.735107   5453.320069  ...   6589.354033    5399.382447\n",
              "75%     7916.622436   7965.574951  ...   9663.592448    7915.771241\n",
              "max    15548.290040  15568.599610  ...  18934.376170   15516.844730\n",
              "\n",
              "[8 rows x 8 columns]"
            ]
          },
          "metadata": {
            "tags": []
          },
          "execution_count": 105
        }
      ]
    },
    {
      "cell_type": "markdown",
      "metadata": {
        "id": "wZEPXWcdsIWJ"
      },
      "source": [
        "In this step in the statistical analysis. I am using the describe method to get a general picture of how the data looks for Region Germany.\n",
        "\n",
        "Count tells me how many data point there are in each column.\n",
        "\n",
        "Mean is giving me the average value in each column.\n",
        "\n",
        "Std = Standard Deviation is how far the data is distanced from the average.\n",
        "\n",
        "Min: is giving the minimum value in each column.\n",
        "\n",
        "25% is the mean +- the standard deviation. 50% is the mean +- two standard deviations. 75% is the mean +- three standard devations.\n",
        "\n",
        "Max = is the maximum value in each column."
      ]
    },
    {
      "cell_type": "code",
      "metadata": {
        "colab": {
          "base_uri": "https://localhost:8080/",
          "height": 204
        },
        "id": "Er9c2Jj_069a",
        "outputId": "9fea676f-f462-4a64-a591-cd42f8fde257"
      },
      "source": [
        "# Doing the same thing for the USA\n",
        "\n",
        "df2.query('Region == \"United States\" ')\n",
        "\n",
        "dfu=df2.query('Region == \"United States\" ')\n",
        "\n",
        "dfu.head()\n",
        "\n"
      ],
      "execution_count": null,
      "outputs": [
        {
          "output_type": "execute_result",
          "data": {
            "text/html": [
              "<div>\n",
              "<style scoped>\n",
              "    .dataframe tbody tr th:only-of-type {\n",
              "        vertical-align: middle;\n",
              "    }\n",
              "\n",
              "    .dataframe tbody tr th {\n",
              "        vertical-align: top;\n",
              "    }\n",
              "\n",
              "    .dataframe thead th {\n",
              "        text-align: right;\n",
              "    }\n",
              "</style>\n",
              "<table border=\"1\" class=\"dataframe\">\n",
              "  <thead>\n",
              "    <tr style=\"text-align: right;\">\n",
              "      <th></th>\n",
              "      <th>Index</th>\n",
              "      <th>Date</th>\n",
              "      <th>Open</th>\n",
              "      <th>High</th>\n",
              "      <th>Low</th>\n",
              "      <th>Close</th>\n",
              "      <th>Adj Close</th>\n",
              "      <th>Volume</th>\n",
              "      <th>CloseUSD</th>\n",
              "      <th>Daily Average</th>\n",
              "      <th>Region</th>\n",
              "      <th>Exchange</th>\n",
              "      <th>Currency</th>\n",
              "    </tr>\n",
              "  </thead>\n",
              "  <tbody>\n",
              "    <tr>\n",
              "      <th>8492</th>\n",
              "      <td>NYA</td>\n",
              "      <td>12/31/1965</td>\n",
              "      <td>528.690002</td>\n",
              "      <td>528.690002</td>\n",
              "      <td>528.690002</td>\n",
              "      <td>528.690002</td>\n",
              "      <td>528.690002</td>\n",
              "      <td>0</td>\n",
              "      <td>528.690002</td>\n",
              "      <td>528.690002</td>\n",
              "      <td>United States</td>\n",
              "      <td>New York Stock Exchange</td>\n",
              "      <td>USD</td>\n",
              "    </tr>\n",
              "    <tr>\n",
              "      <th>8493</th>\n",
              "      <td>NYA</td>\n",
              "      <td>1/3/1966</td>\n",
              "      <td>527.210022</td>\n",
              "      <td>527.210022</td>\n",
              "      <td>527.210022</td>\n",
              "      <td>527.210022</td>\n",
              "      <td>527.210022</td>\n",
              "      <td>0</td>\n",
              "      <td>527.210022</td>\n",
              "      <td>527.210022</td>\n",
              "      <td>United States</td>\n",
              "      <td>New York Stock Exchange</td>\n",
              "      <td>USD</td>\n",
              "    </tr>\n",
              "    <tr>\n",
              "      <th>8494</th>\n",
              "      <td>NYA</td>\n",
              "      <td>1/4/1966</td>\n",
              "      <td>527.840027</td>\n",
              "      <td>527.840027</td>\n",
              "      <td>527.840027</td>\n",
              "      <td>527.840027</td>\n",
              "      <td>527.840027</td>\n",
              "      <td>0</td>\n",
              "      <td>527.840027</td>\n",
              "      <td>527.840027</td>\n",
              "      <td>United States</td>\n",
              "      <td>New York Stock Exchange</td>\n",
              "      <td>USD</td>\n",
              "    </tr>\n",
              "    <tr>\n",
              "      <th>8495</th>\n",
              "      <td>NYA</td>\n",
              "      <td>1/5/1966</td>\n",
              "      <td>531.119995</td>\n",
              "      <td>531.119995</td>\n",
              "      <td>531.119995</td>\n",
              "      <td>531.119995</td>\n",
              "      <td>531.119995</td>\n",
              "      <td>0</td>\n",
              "      <td>531.119995</td>\n",
              "      <td>531.119995</td>\n",
              "      <td>United States</td>\n",
              "      <td>New York Stock Exchange</td>\n",
              "      <td>USD</td>\n",
              "    </tr>\n",
              "    <tr>\n",
              "      <th>8496</th>\n",
              "      <td>NYA</td>\n",
              "      <td>1/6/1966</td>\n",
              "      <td>532.070007</td>\n",
              "      <td>532.070007</td>\n",
              "      <td>532.070007</td>\n",
              "      <td>532.070007</td>\n",
              "      <td>532.070007</td>\n",
              "      <td>0</td>\n",
              "      <td>532.070007</td>\n",
              "      <td>532.070007</td>\n",
              "      <td>United States</td>\n",
              "      <td>New York Stock Exchange</td>\n",
              "      <td>USD</td>\n",
              "    </tr>\n",
              "  </tbody>\n",
              "</table>\n",
              "</div>"
            ],
            "text/plain": [
              "     Index        Date  ...                 Exchange  Currency\n",
              "8492   NYA  12/31/1965  ...  New York Stock Exchange       USD\n",
              "8493   NYA    1/3/1966  ...  New York Stock Exchange       USD\n",
              "8494   NYA    1/4/1966  ...  New York Stock Exchange       USD\n",
              "8495   NYA    1/5/1966  ...  New York Stock Exchange       USD\n",
              "8496   NYA    1/6/1966  ...  New York Stock Exchange       USD\n",
              "\n",
              "[5 rows x 13 columns]"
            ]
          },
          "metadata": {
            "tags": []
          },
          "execution_count": 106
        }
      ]
    },
    {
      "cell_type": "markdown",
      "metadata": {
        "id": "aRikBaRFsWy3"
      },
      "source": [
        "Hypothesis: The Chinese stock exchange index does not move with the New York stock exchange valuations.\n",
        "\n",
        "Null Hypothesis The Chinese stock exchange index moves with the New York stock exchange valuations.\n",
        "\n",
        "Here I am starting the Statistical T Test. The issue is that the data is aggregated and unfiltered. I want to isolate all *values for Region USA *so I can do a T - TEST of USA Vs China.\n",
        "\n",
        "So I use the .query method\n",
        "\n",
        "After doing the query I save the Data Frame into a different variable dfg so I can access the results easily in the future."
      ]
    },
    {
      "cell_type": "code",
      "metadata": {
        "colab": {
          "base_uri": "https://localhost:8080/",
          "height": 297
        },
        "id": "Rjytc_Bf1Tsn",
        "outputId": "6ba0359f-e195-4d8d-b62b-81f968867be3"
      },
      "source": [
        "#Getting Descriptive Stats for the USA\n",
        "\n",
        "dfu.describe()"
      ],
      "execution_count": null,
      "outputs": [
        {
          "output_type": "execute_result",
          "data": {
            "text/html": [
              "<div>\n",
              "<style scoped>\n",
              "    .dataframe tbody tr th:only-of-type {\n",
              "        vertical-align: middle;\n",
              "    }\n",
              "\n",
              "    .dataframe tbody tr th {\n",
              "        vertical-align: top;\n",
              "    }\n",
              "\n",
              "    .dataframe thead th {\n",
              "        text-align: right;\n",
              "    }\n",
              "</style>\n",
              "<table border=\"1\" class=\"dataframe\">\n",
              "  <thead>\n",
              "    <tr style=\"text-align: right;\">\n",
              "      <th></th>\n",
              "      <th>Open</th>\n",
              "      <th>High</th>\n",
              "      <th>Low</th>\n",
              "      <th>Close</th>\n",
              "      <th>Adj Close</th>\n",
              "      <th>Volume</th>\n",
              "      <th>CloseUSD</th>\n",
              "      <th>Daily Average</th>\n",
              "    </tr>\n",
              "  </thead>\n",
              "  <tbody>\n",
              "    <tr>\n",
              "      <th>count</th>\n",
              "      <td>26637.000000</td>\n",
              "      <td>26637.000000</td>\n",
              "      <td>26637.000000</td>\n",
              "      <td>26637.000000</td>\n",
              "      <td>26637.000000</td>\n",
              "      <td>2.663700e+04</td>\n",
              "      <td>26637.000000</td>\n",
              "      <td>26637.000000</td>\n",
              "    </tr>\n",
              "    <tr>\n",
              "      <th>mean</th>\n",
              "      <td>3276.605549</td>\n",
              "      <td>3291.427464</td>\n",
              "      <td>3259.971029</td>\n",
              "      <td>3276.755938</td>\n",
              "      <td>3276.755938</td>\n",
              "      <td>1.108833e+09</td>\n",
              "      <td>3276.755938</td>\n",
              "      <td>3275.699246</td>\n",
              "    </tr>\n",
              "    <tr>\n",
              "      <th>std</th>\n",
              "      <td>3629.002232</td>\n",
              "      <td>3646.806561</td>\n",
              "      <td>3609.262895</td>\n",
              "      <td>3629.405774</td>\n",
              "      <td>3629.405774</td>\n",
              "      <td>1.537763e+09</td>\n",
              "      <td>3629.405774</td>\n",
              "      <td>3627.959471</td>\n",
              "    </tr>\n",
              "    <tr>\n",
              "      <th>min</th>\n",
              "      <td>54.869999</td>\n",
              "      <td>54.869999</td>\n",
              "      <td>54.869999</td>\n",
              "      <td>54.869999</td>\n",
              "      <td>54.869999</td>\n",
              "      <td>0.000000e+00</td>\n",
              "      <td>54.869999</td>\n",
              "      <td>54.869999</td>\n",
              "    </tr>\n",
              "    <tr>\n",
              "      <th>25%</th>\n",
              "      <td>547.510010</td>\n",
              "      <td>547.609985</td>\n",
              "      <td>547.080017</td>\n",
              "      <td>547.510010</td>\n",
              "      <td>547.510010</td>\n",
              "      <td>0.000000e+00</td>\n",
              "      <td>547.510010</td>\n",
              "      <td>547.510010</td>\n",
              "    </tr>\n",
              "    <tr>\n",
              "      <th>50%</th>\n",
              "      <td>1804.939941</td>\n",
              "      <td>1811.599976</td>\n",
              "      <td>1789.719971</td>\n",
              "      <td>1803.880005</td>\n",
              "      <td>1803.880005</td>\n",
              "      <td>1.307000e+08</td>\n",
              "      <td>1803.880005</td>\n",
              "      <td>1804.769959</td>\n",
              "    </tr>\n",
              "    <tr>\n",
              "      <th>75%</th>\n",
              "      <td>5428.979980</td>\n",
              "      <td>5460.910156</td>\n",
              "      <td>5398.950195</td>\n",
              "      <td>5429.080078</td>\n",
              "      <td>5429.080078</td>\n",
              "      <td>1.918690e+09</td>\n",
              "      <td>5429.080078</td>\n",
              "      <td>5425.280029</td>\n",
              "    </tr>\n",
              "    <tr>\n",
              "      <th>max</th>\n",
              "      <td>16590.429690</td>\n",
              "      <td>16685.890630</td>\n",
              "      <td>16531.949220</td>\n",
              "      <td>16590.429690</td>\n",
              "      <td>16590.429690</td>\n",
              "      <td>1.145623e+10</td>\n",
              "      <td>16590.429690</td>\n",
              "      <td>16601.345710</td>\n",
              "    </tr>\n",
              "  </tbody>\n",
              "</table>\n",
              "</div>"
            ],
            "text/plain": [
              "               Open          High  ...      CloseUSD  Daily Average\n",
              "count  26637.000000  26637.000000  ...  26637.000000   26637.000000\n",
              "mean    3276.605549   3291.427464  ...   3276.755938    3275.699246\n",
              "std     3629.002232   3646.806561  ...   3629.405774    3627.959471\n",
              "min       54.869999     54.869999  ...     54.869999      54.869999\n",
              "25%      547.510010    547.609985  ...    547.510010     547.510010\n",
              "50%     1804.939941   1811.599976  ...   1803.880005    1804.769959\n",
              "75%     5428.979980   5460.910156  ...   5429.080078    5425.280029\n",
              "max    16590.429690  16685.890630  ...  16590.429690   16601.345710\n",
              "\n",
              "[8 rows x 8 columns]"
            ]
          },
          "metadata": {
            "tags": []
          },
          "execution_count": 107
        }
      ]
    },
    {
      "cell_type": "markdown",
      "metadata": {
        "id": "DKLraXzaxya2"
      },
      "source": [
        "In this step in the statistical analysis. I am using the describe method to get a general picture of how the data looks for Region USA.\n",
        "\n",
        "Count tells me how many data point there are in each column.\n",
        "\n",
        "Mean is giving me the average value in each column.\n",
        "\n",
        "Std = Standard Deviation is how far the data is distanced from the average.\n",
        "\n",
        "Min: is giving the minimum value in each column.\n",
        "\n",
        "25% is the mean +- the standard deviation. 50% is the mean +- two standard deviations. 75% is the mean +- three standard devations.\n",
        "\n",
        "Max = is the maximum value in each column."
      ]
    },
    {
      "cell_type": "code",
      "metadata": {
        "colab": {
          "base_uri": "https://localhost:8080/",
          "height": 17
        },
        "id": "bgBEm1u7rLep",
        "outputId": "b2bb2b8e-77f4-40f6-9897-b6c0da255688"
      },
      "source": [
        "#USA Describe Download\n",
        "\n",
        "from google.colab import files\n",
        "dfu.describe().to_csv(\"testu.csv\")\n",
        "files.download('testu.csv')"
      ],
      "execution_count": null,
      "outputs": [
        {
          "output_type": "display_data",
          "data": {
            "application/javascript": [
              "\n",
              "    async function download(id, filename, size) {\n",
              "      if (!google.colab.kernel.accessAllowed) {\n",
              "        return;\n",
              "      }\n",
              "      const div = document.createElement('div');\n",
              "      const label = document.createElement('label');\n",
              "      label.textContent = `Downloading \"${filename}\": `;\n",
              "      div.appendChild(label);\n",
              "      const progress = document.createElement('progress');\n",
              "      progress.max = size;\n",
              "      div.appendChild(progress);\n",
              "      document.body.appendChild(div);\n",
              "\n",
              "      const buffers = [];\n",
              "      let downloaded = 0;\n",
              "\n",
              "      const channel = await google.colab.kernel.comms.open(id);\n",
              "      // Send a message to notify the kernel that we're ready.\n",
              "      channel.send({})\n",
              "\n",
              "      for await (const message of channel.messages) {\n",
              "        // Send a message to notify the kernel that we're ready.\n",
              "        channel.send({})\n",
              "        if (message.buffers) {\n",
              "          for (const buffer of message.buffers) {\n",
              "            buffers.push(buffer);\n",
              "            downloaded += buffer.byteLength;\n",
              "            progress.value = downloaded;\n",
              "          }\n",
              "        }\n",
              "      }\n",
              "      const blob = new Blob(buffers, {type: 'application/binary'});\n",
              "      const a = document.createElement('a');\n",
              "      a.href = window.URL.createObjectURL(blob);\n",
              "      a.download = filename;\n",
              "      div.appendChild(a);\n",
              "      a.click();\n",
              "      div.remove();\n",
              "    }\n",
              "  "
            ],
            "text/plain": [
              "<IPython.core.display.Javascript object>"
            ]
          },
          "metadata": {
            "tags": []
          }
        },
        {
          "output_type": "display_data",
          "data": {
            "application/javascript": [
              "download(\"download_335c24e5-0df4-4029-af96-16c1a9e678c0\", \"testu.csv\", 920)"
            ],
            "text/plain": [
              "<IPython.core.display.Javascript object>"
            ]
          },
          "metadata": {
            "tags": []
          }
        }
      ]
    },
    {
      "cell_type": "code",
      "metadata": {
        "colab": {
          "base_uri": "https://localhost:8080/",
          "height": 204
        },
        "id": "l7hzgfvs2Sjd",
        "outputId": "7bcf9719-7438-4433-f6b5-19393c7208e2"
      },
      "source": [
        "#China Filter\n",
        "\n",
        "df2.query('Region == \"China\" ')\n",
        "\n",
        "#df_china=df2[df2['Region']='China']\n",
        "\n",
        "dfc=df2.query('Region == \"China\" ')\n",
        "\n",
        "dfc.head()"
      ],
      "execution_count": null,
      "outputs": [
        {
          "output_type": "execute_result",
          "data": {
            "text/html": [
              "<div>\n",
              "<style scoped>\n",
              "    .dataframe tbody tr th:only-of-type {\n",
              "        vertical-align: middle;\n",
              "    }\n",
              "\n",
              "    .dataframe tbody tr th {\n",
              "        vertical-align: top;\n",
              "    }\n",
              "\n",
              "    .dataframe thead th {\n",
              "        text-align: right;\n",
              "    }\n",
              "</style>\n",
              "<table border=\"1\" class=\"dataframe\">\n",
              "  <thead>\n",
              "    <tr style=\"text-align: right;\">\n",
              "      <th></th>\n",
              "      <th>Index</th>\n",
              "      <th>Date</th>\n",
              "      <th>Open</th>\n",
              "      <th>High</th>\n",
              "      <th>Low</th>\n",
              "      <th>Close</th>\n",
              "      <th>Adj Close</th>\n",
              "      <th>Volume</th>\n",
              "      <th>CloseUSD</th>\n",
              "      <th>Daily Average</th>\n",
              "      <th>Region</th>\n",
              "      <th>Exchange</th>\n",
              "      <th>Currency</th>\n",
              "    </tr>\n",
              "  </thead>\n",
              "  <tbody>\n",
              "    <tr>\n",
              "      <th>35129</th>\n",
              "      <td>000001.SS</td>\n",
              "      <td>7/2/1997</td>\n",
              "      <td>1255.909058</td>\n",
              "      <td>1261.571045</td>\n",
              "      <td>1147.331055</td>\n",
              "      <td>1199.061035</td>\n",
              "      <td>1199.061035</td>\n",
              "      <td>0</td>\n",
              "      <td>191.849766</td>\n",
              "      <td>1204.451050</td>\n",
              "      <td>China</td>\n",
              "      <td>Shanghai Stock Exchange</td>\n",
              "      <td>CNY</td>\n",
              "    </tr>\n",
              "    <tr>\n",
              "      <th>35130</th>\n",
              "      <td>000001.SS</td>\n",
              "      <td>7/3/1997</td>\n",
              "      <td>1194.676025</td>\n",
              "      <td>1194.676025</td>\n",
              "      <td>1149.939941</td>\n",
              "      <td>1150.623047</td>\n",
              "      <td>1150.623047</td>\n",
              "      <td>0</td>\n",
              "      <td>184.099687</td>\n",
              "      <td>1172.307983</td>\n",
              "      <td>China</td>\n",
              "      <td>Shanghai Stock Exchange</td>\n",
              "      <td>CNY</td>\n",
              "    </tr>\n",
              "    <tr>\n",
              "      <th>35131</th>\n",
              "      <td>000001.SS</td>\n",
              "      <td>7/4/1997</td>\n",
              "      <td>1138.921021</td>\n",
              "      <td>1163.249023</td>\n",
              "      <td>1124.776001</td>\n",
              "      <td>1159.342041</td>\n",
              "      <td>1159.342041</td>\n",
              "      <td>0</td>\n",
              "      <td>185.494727</td>\n",
              "      <td>1144.012512</td>\n",
              "      <td>China</td>\n",
              "      <td>Shanghai Stock Exchange</td>\n",
              "      <td>CNY</td>\n",
              "    </tr>\n",
              "    <tr>\n",
              "      <th>35132</th>\n",
              "      <td>000001.SS</td>\n",
              "      <td>7/7/1997</td>\n",
              "      <td>1161.707031</td>\n",
              "      <td>1163.447021</td>\n",
              "      <td>1085.572021</td>\n",
              "      <td>1096.818970</td>\n",
              "      <td>1096.818970</td>\n",
              "      <td>0</td>\n",
              "      <td>175.491035</td>\n",
              "      <td>1124.509521</td>\n",
              "      <td>China</td>\n",
              "      <td>Shanghai Stock Exchange</td>\n",
              "      <td>CNY</td>\n",
              "    </tr>\n",
              "    <tr>\n",
              "      <th>35133</th>\n",
              "      <td>000001.SS</td>\n",
              "      <td>7/8/1997</td>\n",
              "      <td>1092.798950</td>\n",
              "      <td>1115.432983</td>\n",
              "      <td>1066.043945</td>\n",
              "      <td>1109.666016</td>\n",
              "      <td>1109.666016</td>\n",
              "      <td>0</td>\n",
              "      <td>177.546563</td>\n",
              "      <td>1090.738464</td>\n",
              "      <td>China</td>\n",
              "      <td>Shanghai Stock Exchange</td>\n",
              "      <td>CNY</td>\n",
              "    </tr>\n",
              "  </tbody>\n",
              "</table>\n",
              "</div>"
            ],
            "text/plain": [
              "           Index      Date  ...                 Exchange  Currency\n",
              "35129  000001.SS  7/2/1997  ...  Shanghai Stock Exchange       CNY\n",
              "35130  000001.SS  7/3/1997  ...  Shanghai Stock Exchange       CNY\n",
              "35131  000001.SS  7/4/1997  ...  Shanghai Stock Exchange       CNY\n",
              "35132  000001.SS  7/7/1997  ...  Shanghai Stock Exchange       CNY\n",
              "35133  000001.SS  7/8/1997  ...  Shanghai Stock Exchange       CNY\n",
              "\n",
              "[5 rows x 13 columns]"
            ]
          },
          "metadata": {
            "tags": []
          },
          "execution_count": 110
        }
      ]
    },
    {
      "cell_type": "markdown",
      "metadata": {
        "id": "1YlSt5B6yU1v"
      },
      "source": [
        "Both my T test involve the China so I need to filter the china values and isolate them for the T test. \n",
        "\n",
        "I save the results in a new data frame dfc. \n"
      ]
    },
    {
      "cell_type": "code",
      "metadata": {
        "colab": {
          "base_uri": "https://localhost:8080/",
          "height": 297
        },
        "id": "ZcJ47pgf24XK",
        "outputId": "30e80ed3-442e-4649-8f75-dc6496ef2811"
      },
      "source": [
        "#Descriptive Stats for China\n",
        "\n",
        "dfc.describe()\n"
      ],
      "execution_count": null,
      "outputs": [
        {
          "output_type": "execute_result",
          "data": {
            "text/html": [
              "<div>\n",
              "<style scoped>\n",
              "    .dataframe tbody tr th:only-of-type {\n",
              "        vertical-align: middle;\n",
              "    }\n",
              "\n",
              "    .dataframe tbody tr th {\n",
              "        vertical-align: top;\n",
              "    }\n",
              "\n",
              "    .dataframe thead th {\n",
              "        text-align: right;\n",
              "    }\n",
              "</style>\n",
              "<table border=\"1\" class=\"dataframe\">\n",
              "  <thead>\n",
              "    <tr style=\"text-align: right;\">\n",
              "      <th></th>\n",
              "      <th>Open</th>\n",
              "      <th>High</th>\n",
              "      <th>Low</th>\n",
              "      <th>Close</th>\n",
              "      <th>Adj Close</th>\n",
              "      <th>Volume</th>\n",
              "      <th>CloseUSD</th>\n",
              "      <th>Daily Average</th>\n",
              "    </tr>\n",
              "  </thead>\n",
              "  <tbody>\n",
              "    <tr>\n",
              "      <th>count</th>\n",
              "      <td>11551.000000</td>\n",
              "      <td>11551.000000</td>\n",
              "      <td>11551.000000</td>\n",
              "      <td>11551.000000</td>\n",
              "      <td>11551.000000</td>\n",
              "      <td>1.155100e+04</td>\n",
              "      <td>11551.000000</td>\n",
              "      <td>11551.000000</td>\n",
              "    </tr>\n",
              "    <tr>\n",
              "      <th>mean</th>\n",
              "      <td>5167.277422</td>\n",
              "      <td>5219.930971</td>\n",
              "      <td>5113.077501</td>\n",
              "      <td>5170.947965</td>\n",
              "      <td>5170.911890</td>\n",
              "      <td>1.780912e+05</td>\n",
              "      <td>827.351674</td>\n",
              "      <td>5166.504236</td>\n",
              "    </tr>\n",
              "    <tr>\n",
              "      <th>std</th>\n",
              "      <td>4004.673623</td>\n",
              "      <td>4051.749253</td>\n",
              "      <td>3954.367837</td>\n",
              "      <td>4007.675694</td>\n",
              "      <td>4007.635821</td>\n",
              "      <td>3.775214e+05</td>\n",
              "      <td>641.228111</td>\n",
              "      <td>4002.791971</td>\n",
              "    </tr>\n",
              "    <tr>\n",
              "      <th>min</th>\n",
              "      <td>1007.901001</td>\n",
              "      <td>1019.921997</td>\n",
              "      <td>998.228027</td>\n",
              "      <td>1011.499023</td>\n",
              "      <td>1011.499023</td>\n",
              "      <td>0.000000e+00</td>\n",
              "      <td>161.839844</td>\n",
              "      <td>1010.221985</td>\n",
              "    </tr>\n",
              "    <tr>\n",
              "      <th>25%</th>\n",
              "      <td>2254.376953</td>\n",
              "      <td>2276.542968</td>\n",
              "      <td>2234.662476</td>\n",
              "      <td>2261.177490</td>\n",
              "      <td>2261.177490</td>\n",
              "      <td>0.000000e+00</td>\n",
              "      <td>361.788398</td>\n",
              "      <td>2253.542725</td>\n",
              "    </tr>\n",
              "    <tr>\n",
              "      <th>50%</th>\n",
              "      <td>3279.379883</td>\n",
              "      <td>3306.060059</td>\n",
              "      <td>3254.611084</td>\n",
              "      <td>3280.839111</td>\n",
              "      <td>3280.839111</td>\n",
              "      <td>7.080000e+04</td>\n",
              "      <td>524.934258</td>\n",
              "      <td>3280.015015</td>\n",
              "    </tr>\n",
              "    <tr>\n",
              "      <th>75%</th>\n",
              "      <td>8362.604981</td>\n",
              "      <td>8444.854981</td>\n",
              "      <td>8276.155274</td>\n",
              "      <td>8367.310058</td>\n",
              "      <td>8367.216308</td>\n",
              "      <td>1.442500e+05</td>\n",
              "      <td>1338.769609</td>\n",
              "      <td>8359.842651</td>\n",
              "    </tr>\n",
              "    <tr>\n",
              "      <th>max</th>\n",
              "      <td>19554.580080</td>\n",
              "      <td>19600.029300</td>\n",
              "      <td>19203.109380</td>\n",
              "      <td>19531.150390</td>\n",
              "      <td>19530.931640</td>\n",
              "      <td>1.006520e+07</td>\n",
              "      <td>3124.984062</td>\n",
              "      <td>19396.899420</td>\n",
              "    </tr>\n",
              "  </tbody>\n",
              "</table>\n",
              "</div>"
            ],
            "text/plain": [
              "               Open          High  ...      CloseUSD  Daily Average\n",
              "count  11551.000000  11551.000000  ...  11551.000000   11551.000000\n",
              "mean    5167.277422   5219.930971  ...    827.351674    5166.504236\n",
              "std     4004.673623   4051.749253  ...    641.228111    4002.791971\n",
              "min     1007.901001   1019.921997  ...    161.839844    1010.221985\n",
              "25%     2254.376953   2276.542968  ...    361.788398    2253.542725\n",
              "50%     3279.379883   3306.060059  ...    524.934258    3280.015015\n",
              "75%     8362.604981   8444.854981  ...   1338.769609    8359.842651\n",
              "max    19554.580080  19600.029300  ...   3124.984062   19396.899420\n",
              "\n",
              "[8 rows x 8 columns]"
            ]
          },
          "metadata": {
            "tags": []
          },
          "execution_count": 111
        }
      ]
    },
    {
      "cell_type": "code",
      "metadata": {
        "colab": {
          "base_uri": "https://localhost:8080/",
          "height": 34
        },
        "id": "JeanmQbZJrV-",
        "outputId": "577b076e-0631-47c3-90ca-9c8eb00157cb"
      },
      "source": [
        "#Export Function\n",
        "\n",
        "from google.colab import files\n",
        "dfc.describe().to_csv(\"test.csv\")\n",
        "files.download('test.csv')\n"
      ],
      "execution_count": null,
      "outputs": [
        {
          "output_type": "display_data",
          "data": {
            "application/javascript": [
              "\n",
              "    async function download(id, filename, size) {\n",
              "      if (!google.colab.kernel.accessAllowed) {\n",
              "        return;\n",
              "      }\n",
              "      const div = document.createElement('div');\n",
              "      const label = document.createElement('label');\n",
              "      label.textContent = `Downloading \"${filename}\": `;\n",
              "      div.appendChild(label);\n",
              "      const progress = document.createElement('progress');\n",
              "      progress.max = size;\n",
              "      div.appendChild(progress);\n",
              "      document.body.appendChild(div);\n",
              "\n",
              "      const buffers = [];\n",
              "      let downloaded = 0;\n",
              "\n",
              "      const channel = await google.colab.kernel.comms.open(id);\n",
              "      // Send a message to notify the kernel that we're ready.\n",
              "      channel.send({})\n",
              "\n",
              "      for await (const message of channel.messages) {\n",
              "        // Send a message to notify the kernel that we're ready.\n",
              "        channel.send({})\n",
              "        if (message.buffers) {\n",
              "          for (const buffer of message.buffers) {\n",
              "            buffers.push(buffer);\n",
              "            downloaded += buffer.byteLength;\n",
              "            progress.value = downloaded;\n",
              "          }\n",
              "        }\n",
              "      }\n",
              "      const blob = new Blob(buffers, {type: 'application/binary'});\n",
              "      const a = document.createElement('a');\n",
              "      a.href = window.URL.createObjectURL(blob);\n",
              "      a.download = filename;\n",
              "      div.appendChild(a);\n",
              "      a.click();\n",
              "      div.remove();\n",
              "    }\n",
              "  "
            ],
            "text/plain": [
              "<IPython.core.display.Javascript object>"
            ]
          },
          "metadata": {
            "tags": []
          }
        },
        {
          "output_type": "display_data",
          "data": {
            "application/javascript": [
              "download(\"download_089609f7-f1b8-4345-8db7-9f6b7d466781\", \"test.csv\", 944)"
            ],
            "text/plain": [
              "<IPython.core.display.Javascript object>"
            ]
          },
          "metadata": {
            "tags": []
          }
        }
      ]
    },
    {
      "cell_type": "markdown",
      "metadata": {
        "id": "MamFWOaPzBbL"
      },
      "source": [
        "In this step in the statistical analysis. I am using the describe method to get a general picture of how the data looks for Region China.\n",
        "\n",
        "Count tells me how many data point there are in each column.\n",
        "\n",
        "Mean is giving me the average value in each column.\n",
        "\n",
        "Std = Standard Deviation is how far the data is distanced from the average.\n",
        "\n",
        "Min: is giving the minimum value in each column.\n",
        "\n",
        "25% is the mean +- the standard deviation. 50% is the mean +- two standard deviations. 75% is the mean +- three standard devations.\n",
        "\n",
        "Max = is the maximum value in each column."
      ]
    },
    {
      "cell_type": "code",
      "metadata": {
        "colab": {
          "base_uri": "https://localhost:8080/"
        },
        "id": "4GP3uyHf9HWD",
        "outputId": "20eca06b-1a73-468b-f5c8-918a029c912e"
      },
      "source": [
        "#Pulling Daily USD Averages for Comparison\n",
        "\n",
        "dfc['Daily Average']"
      ],
      "execution_count": null,
      "outputs": [
        {
          "output_type": "execute_result",
          "data": {
            "text/plain": [
              "35129     1204.451050\n",
              "35130     1172.307983\n",
              "35131     1144.012512\n",
              "35132     1124.509521\n",
              "35133     1090.738464\n",
              "             ...     \n",
              "66023    14837.984870\n",
              "66024    14878.035160\n",
              "66025    14916.265140\n",
              "66026    14929.879880\n",
              "66027    14922.475100\n",
              "Name: Daily Average, Length: 11551, dtype: float64"
            ]
          },
          "metadata": {
            "tags": []
          },
          "execution_count": 113
        }
      ]
    },
    {
      "cell_type": "markdown",
      "metadata": {
        "id": "0Z5r0g4VzEwA"
      },
      "source": [
        "Here I am printing daily averages to try and make sure the data looks good."
      ]
    },
    {
      "cell_type": "code",
      "metadata": {
        "colab": {
          "base_uri": "https://localhost:8080/"
        },
        "id": "HxVZp7XKDvkG",
        "outputId": "384a7b3a-dc33-44fe-d2e6-a797176cbd70"
      },
      "source": [
        "#Pulling Daily USD Averages for Comparison\n",
        "\n",
        "dfg['Daily Average']"
      ],
      "execution_count": null,
      "outputs": [
        {
          "output_type": "execute_result",
          "data": {
            "text/plain": [
              "79900     1005.190002\n",
              "79901      956.489990\n",
              "79902      996.099976\n",
              "79903     1006.010010\n",
              "79904     1014.469971\n",
              "             ...     \n",
              "88333    15516.844730\n",
              "88334    15474.670410\n",
              "88335    15420.364750\n",
              "88336    15492.229980\n",
              "88337    15457.009770\n",
              "Name: Daily Average, Length: 8438, dtype: float64"
            ]
          },
          "metadata": {
            "tags": []
          },
          "execution_count": 114
        }
      ]
    },
    {
      "cell_type": "markdown",
      "metadata": {
        "id": "BSRHETL5zOpA"
      },
      "source": [
        "Here I am printing daily averages to try and make sure the data looks good."
      ]
    },
    {
      "cell_type": "code",
      "metadata": {
        "colab": {
          "base_uri": "https://localhost:8080/"
        },
        "id": "8znGgGunD0T8",
        "outputId": "d07092e5-9572-4ad5-a58a-c4def76b2b15"
      },
      "source": [
        "#Pulling Daily USD Averages for Comparison\n",
        "\n",
        "dfu['Daily Average']"
      ],
      "execution_count": null,
      "outputs": [
        {
          "output_type": "execute_result",
          "data": {
            "text/plain": [
              "8492       528.690002\n",
              "8493       527.210022\n",
              "8494       527.840027\n",
              "8495       531.119995\n",
              "8496       532.070007\n",
              "             ...     \n",
              "35124    13629.929690\n",
              "35125    13691.469730\n",
              "35126    13714.875000\n",
              "35127    13739.074710\n",
              "35128    13784.240240\n",
              "Name: Daily Average, Length: 26637, dtype: float64"
            ]
          },
          "metadata": {
            "tags": []
          },
          "execution_count": 115
        }
      ]
    },
    {
      "cell_type": "markdown",
      "metadata": {
        "id": "sntfBsEuzPd3"
      },
      "source": [
        "Here I am printing daily averages to try and make sure the data looks good."
      ]
    },
    {
      "cell_type": "code",
      "metadata": {
        "colab": {
          "base_uri": "https://localhost:8080/"
        },
        "id": "zRVz08A3EQo2",
        "outputId": "0ff184bf-b63d-416d-93cb-11e84f38478f"
      },
      "source": [
        "#Running T test between Chinese Stock exchange and German Stock Exchange to attempt to determine if there a radical difference in means. \n",
        "\n",
        "import scipy\n",
        "\n",
        "from scipy import stats\n",
        "\n",
        "scipy.stats.ttest_ind(dfc['Daily Average'], dfg['Daily Average'])"
      ],
      "execution_count": null,
      "outputs": [
        {
          "output_type": "execute_result",
          "data": {
            "text/plain": [
              "Ttest_indResult(statistic=-13.519763156601389, pvalue=1.819487346114327e-41)"
            ]
          },
          "metadata": {
            "tags": []
          },
          "execution_count": 116
        }
      ]
    },
    {
      "cell_type": "markdown",
      "metadata": {
        "id": "QkhJt0Hq7Hnl"
      },
      "source": [
        "Hypopthesis:The German stock exchange index prices do not move with the Chinese stock exchange.\n",
        "\n",
        "Null Hypothesis The German stock exchange index prices move with the Chinese stock exchange."
      ]
    },
    {
      "cell_type": "code",
      "metadata": {
        "colab": {
          "base_uri": "https://localhost:8080/"
        },
        "id": "LLvlF_8fGy5e",
        "outputId": "562be45a-cabf-4155-f7ea-ba855766292b"
      },
      "source": [
        "#Confidence Interval Chinese Stock Exchange VS German Stock Exchange\n",
        "\n",
        "# Calculate the sample size, mean, and variance of each sample.\n",
        "# You will need this information to calculate standard errors.\n",
        "\n",
        "sample_1_n = dfc.shape[0]\n",
        "sample_2_n = dfg.shape[0]\n",
        "sample_1_mean = dfc['Daily Average'].mean()\n",
        "sample_2_mean = dfg['Daily Average'].mean()\n",
        "sample_1_var = dfc['Daily Average'].var()\n",
        "sample_2_var = dfg['Daily Average'].var()\n",
        "\n",
        "# Calculate the standard error and compute the confidence intervals.\n",
        "\n",
        "import math\n",
        "std_err_difference = math.sqrt((sample_1_var/sample_1_n)+(sample_2_var/sample_2_n))\n",
        "\n",
        "mean_difference = sample_2_mean - sample_1_mean\n",
        "\n",
        "margin_of_error = 1.96 * std_err_difference\n",
        "ci_lower = mean_difference - margin_of_error\n",
        "ci_upper = mean_difference + margin_of_error\n",
        "\n",
        "print('There is a significant difference between sample means. The Null Hypothesis is rejected. There is a radical difference in population means. ')\n",
        "print(\"The difference in means at the 95% confidence interval is between \"+str(ci_lower)+\" and \"+str(ci_upper)+\".\")\n",
        "\n",
        "\n",
        "#Conclusion\n",
        "\n",
        "#There is a significant difference between sample means. The Null Hypothesis is rejected. There is a difference in population means. \n",
        "# The difference is significant at the 0.95 confidence interval level. With 95% confidence, the difference is between 640.1033477441739  and 853.5507616162071 \n",
        "#difference in means. "
      ],
      "execution_count": null,
      "outputs": [
        {
          "output_type": "stream",
          "text": [
            "There is a significant difference between sample means. The Null Hypothesis is rejected. There is a radical difference in population means. \n",
            "The difference in means at the 95% confidence interval is between 640.1033477441739 and 853.5507616162071.\n"
          ],
          "name": "stdout"
        }
      ]
    },
    {
      "cell_type": "code",
      "metadata": {
        "colab": {
          "base_uri": "https://localhost:8080/",
          "height": 791
        },
        "id": "jiWPmWVy_GDA",
        "outputId": "0554ca2a-a167-42d8-817d-60345e1526d1"
      },
      "source": [
        "# T test Box Plot with Error Bars China Vs Germany \n",
        "\n",
        "import seaborn as sns\n",
        "\n",
        "df_outercg = pd.concat([dfg, dfc]) \n",
        "\n",
        "sns.boxplot(x='Region', y='Daily Average', data=df_outercg)\n",
        "\n"
      ],
      "execution_count": null,
      "outputs": [
        {
          "output_type": "execute_result",
          "data": {
            "text/plain": [
              "<matplotlib.axes._subplots.AxesSubplot at 0x7f03bb21ca50>"
            ]
          },
          "metadata": {
            "tags": []
          },
          "execution_count": 118
        },
        {
          "output_type": "display_data",
          "data": {
            "image/png": "[encoded data removed]",
            "text/plain": [
              "<Figure size 1440x936 with 1 Axes>"
            ]
          },
          "metadata": {
            "tags": []
          }
        }
      ]
    },
    {
      "cell_type": "markdown",
      "metadata": {
        "id": "wcV2uh2r23RH"
      },
      "source": [
        "This Test means the German and Chinese stock exchange valuations are very different. The data point chosen was Daily Average. Daily Average is the average between the  daily High and Low. \n"
      ]
    },
    {
      "cell_type": "code",
      "metadata": {
        "colab": {
          "base_uri": "https://localhost:8080/"
        },
        "id": "Syp6Q5eEIk9f",
        "outputId": "66e7bbd6-773d-4064-8613-3b6210e83cb6"
      },
      "source": [
        "#Running T test between Chinese Stock exchange and USA Stock Exchange to attempt to determine if there a radical difference in means. \n",
        "\n",
        "import scipy\n",
        "from scipy import stats\n",
        "\n",
        "scipy.stats.ttest_ind(dfc['Daily Average'], dfu['Daily Average'])\n"
      ],
      "execution_count": null,
      "outputs": [
        {
          "output_type": "execute_result",
          "data": {
            "text/plain": [
              "Ttest_indResult(statistic=45.31582558493812, pvalue=0.0)"
            ]
          },
          "metadata": {
            "tags": []
          },
          "execution_count": 119
        }
      ]
    },
    {
      "cell_type": "markdown",
      "metadata": {
        "id": "oPOdxsIZ5PCN"
      },
      "source": [
        "Hypopthesis: The Chinese stock exchange index does not move with the New York stock exchange valuations.\n",
        "\n",
        "Null Hypothesis The Chinese stock exchange index moves with the New York stock exchange valuations."
      ]
    },
    {
      "cell_type": "code",
      "metadata": {
        "colab": {
          "base_uri": "https://localhost:8080/"
        },
        "id": "H20WwOnqRpIF",
        "outputId": "30959140-6571-4675-ce27-326bfc9f33c9"
      },
      "source": [
        "#Confidence Interval Chinese Stock Exchange VS German Stock Exchange\n",
        "\n",
        "# Calculate the sample size, mean, and variance of each sample.\n",
        "# You will need this information to calculate standard errors.\n",
        "\n",
        "sample_1_n = dfc.shape[0]\n",
        "sample_2_n = dfu.shape[0]\n",
        "sample_1_mean = dfc['Daily Average'].mean()\n",
        "sample_2_mean = dfu['Daily Average'].mean()\n",
        "sample_1_var = dfc['Daily Average'].var()\n",
        "sample_2_var = dfu['Daily Average'].var()\n",
        "\n",
        "# Calculate the standard error and compute the confidence intervals.\n",
        "\n",
        "import math\n",
        "std_err_difference = math.sqrt((sample_1_var/sample_1_n)+(sample_2_var/sample_2_n))\n",
        "\n",
        "mean_difference = sample_2_mean - sample_1_mean\n",
        "\n",
        "margin_of_error = 1.96 * std_err_difference\n",
        "ci_lower = mean_difference - margin_of_error\n",
        "ci_upper = mean_difference + margin_of_error\n",
        "\n",
        "\n",
        "\n",
        "print(\"The difference in means at the 95% confidence interval is between \"+str(ci_lower)+\" and \"+str(ci_upper)+\".\")"
      ],
      "execution_count": null,
      "outputs": [
        {
          "output_type": "stream",
          "text": [
            "The difference in means at the 95% confidence interval is between -1975.8162227549606 and -1805.7937573526156.\n"
          ],
          "name": "stdout"
        }
      ]
    },
    {
      "cell_type": "code",
      "metadata": {
        "colab": {
          "base_uri": "https://localhost:8080/",
          "height": 791
        },
        "id": "3oNYEKlJGWJk",
        "outputId": "effee996-cf1c-475b-f8ba-c0c81b7e41e5"
      },
      "source": [
        "import seaborn as sns\n",
        "\n",
        "df_outercu = pd.concat([dfu, dfc])\n",
        "\n",
        "sns.boxplot(x='Region', y='Daily Average', data=df_outercu)\n"
      ],
      "execution_count": null,
      "outputs": [
        {
          "output_type": "execute_result",
          "data": {
            "text/plain": [
              "<matplotlib.axes._subplots.AxesSubplot at 0x7f03bb2a29d0>"
            ]
          },
          "metadata": {
            "tags": []
          },
          "execution_count": 121
        },
        {
          "output_type": "display_data",
          "data": {
            "image/png": "[encoded data removed]",
            "text/plain": [
              "<Figure size 1440x936 with 1 Axes>"
            ]
          },
          "metadata": {
            "tags": []
          }
        }
      ]
    },
    {
      "cell_type": "markdown",
      "metadata": {
        "id": "97DBaCBl9cRs"
      },
      "source": [
        "Here I combined the US stock market index data frame with the Chinese stock market index data frame "
      ]
    },
    {
      "cell_type": "markdown",
      "metadata": {
        "id": "KrXNE_Ge397f"
      },
      "source": [
        "There is not a significant difference between sample means. The Null Hypothesis is rejcted. There is a significant difference in population means. The difference in means at the 95% confidence interval is between -1975.8162227549606 and -1805.7937573526156.\n",
        "\n",
        "\n",
        "Hypopthesis: The Chinese stock exchange index does not move with the New York stock exchange valuations.\n",
        "\n",
        "Null Hypothesis The Chinese stock exchange index moves with the New York stock exchange valuations."
      ]
    },
    {
      "cell_type": "markdown",
      "metadata": {
        "id": "zTwmx6xy31-p"
      },
      "source": [
        ""
      ]
    },
    {
      "cell_type": "code",
      "metadata": {
        "id": "lWyu31lw9l5u"
      },
      "source": [
        "import seaborn as sns \n",
        "sns.set()\n",
        "\n",
        "# Suppress warnings (warnings do not prevent the code from executing)\n",
        "import warnings\n",
        "warnings.filterwarnings(\"ignore\")"
      ],
      "execution_count": null,
      "outputs": []
    },
    {
      "cell_type": "code",
      "metadata": {
        "colab": {
          "base_uri": "https://localhost:8080/",
          "height": 774
        },
        "id": "BNCU3YjN-q-i",
        "outputId": "6738025b-a26d-4cea-95b0-c1f5f9f5d054"
      },
      "source": [
        "#Histogram of Chinese Stock Market Data. Not a normal Distribution.\n",
        "\n",
        "ax = sns.histplot(dfc['Daily Average'])\n",
        "\n",
        "sns.set(rc = {'figure.figsize':(20,13)})\n"
      ],
      "execution_count": null,
      "outputs": [
        {
          "output_type": "display_data",
          "data": {
            "image/png": "[encoded data removed]",
            "text/plain": [
              "<Figure size 1440x936 with 1 Axes>"
            ]
          },
          "metadata": {
            "tags": []
          }
        }
      ]
    },
    {
      "cell_type": "code",
      "metadata": {
        "colab": {
          "base_uri": "https://localhost:8080/",
          "height": 774
        },
        "id": "ipw4FWnE_lds",
        "outputId": "7ad7ff39-354d-4cb9-9c57-c39feb40815c"
      },
      "source": [
        "#Histogram of German Stock Market Data. Not a normal Distribution.\n",
        "\n",
        "\n",
        "ax = sns.histplot(dfg['Daily Average'])\n",
        "\n",
        "sns.set(rc = {'figure.figsize':(20,13)})\n"
      ],
      "execution_count": null,
      "outputs": [
        {
          "output_type": "display_data",
          "data": {
            "image/png": "[encoded data removed]",
            "text/plain": [
              "<Figure size 1440x936 with 1 Axes>"
            ]
          },
          "metadata": {
            "tags": []
          }
        }
      ]
    },
    {
      "cell_type": "code",
      "metadata": {
        "colab": {
          "base_uri": "https://localhost:8080/",
          "height": 774
        },
        "id": "6TczqzvYACaN",
        "outputId": "a12753bb-ba0b-4fa0-9137-592c25c09c2c"
      },
      "source": [
        "#Histogram of USA Stock Market Data. Not a normal Distribution.\n",
        "\n",
        "\n",
        "ax = sns.histplot(dfu['Daily Average'])\n",
        "\n",
        "sns.set(rc = {'figure.figsize':(20,13)})\n"
      ],
      "execution_count": null,
      "outputs": [
        {
          "output_type": "display_data",
          "data": {
            "image/png": "[encoded data removed]",
            "text/plain": [
              "<Figure size 1440x936 with 1 Axes>"
            ]
          },
          "metadata": {
            "tags": []
          }
        }
      ]
    },
    {
      "cell_type": "markdown",
      "metadata": {
        "id": "rI_pWMPa7i2E"
      },
      "source": [
        ""
      ]
    },
    {
      "cell_type": "code",
      "metadata": {
        "id": "nGnbM4KlASYs"
      },
      "source": [
        "from google.colab import drive\n",
        "drive.mount('/content/gdrive')"
      ],
      "execution_count": null,
      "outputs": []
    },
    {
      "cell_type": "code",
      "metadata": {
        "id": "l9vO67QlFOeR"
      },
      "source": [
        "#Export function\n",
        "\n",
        "from google.colab import files\n",
        "df2.to_csv('filename2.csv') \n",
        "files.download('filename2.csv')"
      ],
      "execution_count": null,
      "outputs": []
    },
    {
      "cell_type": "code",
      "metadata": {
        "colab": {
          "base_uri": "https://localhost:8080/",
          "height": 204
        },
        "id": "woIbQ2MY-FXQ",
        "outputId": "07b53839-4cdd-4c90-ae54-2fbfa4c15297"
      },
      "source": [
        "dfc.head()\n"
      ],
      "execution_count": null,
      "outputs": [
        {
          "output_type": "execute_result",
          "data": {
            "text/html": [
              "<div>\n",
              "<style scoped>\n",
              "    .dataframe tbody tr th:only-of-type {\n",
              "        vertical-align: middle;\n",
              "    }\n",
              "\n",
              "    .dataframe tbody tr th {\n",
              "        vertical-align: top;\n",
              "    }\n",
              "\n",
              "    .dataframe thead th {\n",
              "        text-align: right;\n",
              "    }\n",
              "</style>\n",
              "<table border=\"1\" class=\"dataframe\">\n",
              "  <thead>\n",
              "    <tr style=\"text-align: right;\">\n",
              "      <th></th>\n",
              "      <th>Index</th>\n",
              "      <th>Date</th>\n",
              "      <th>Open</th>\n",
              "      <th>High</th>\n",
              "      <th>Low</th>\n",
              "      <th>Close</th>\n",
              "      <th>Adj Close</th>\n",
              "      <th>Volume</th>\n",
              "      <th>CloseUSD</th>\n",
              "      <th>Daily Average</th>\n",
              "      <th>Region</th>\n",
              "      <th>Exchange</th>\n",
              "      <th>Currency</th>\n",
              "    </tr>\n",
              "  </thead>\n",
              "  <tbody>\n",
              "    <tr>\n",
              "      <th>35129</th>\n",
              "      <td>000001.SS</td>\n",
              "      <td>7/2/1997</td>\n",
              "      <td>1255.909058</td>\n",
              "      <td>1261.571045</td>\n",
              "      <td>1147.331055</td>\n",
              "      <td>1199.061035</td>\n",
              "      <td>1199.061035</td>\n",
              "      <td>0</td>\n",
              "      <td>191.849766</td>\n",
              "      <td>1204.451050</td>\n",
              "      <td>China</td>\n",
              "      <td>Shanghai Stock Exchange</td>\n",
              "      <td>CNY</td>\n",
              "    </tr>\n",
              "    <tr>\n",
              "      <th>35130</th>\n",
              "      <td>000001.SS</td>\n",
              "      <td>7/3/1997</td>\n",
              "      <td>1194.676025</td>\n",
              "      <td>1194.676025</td>\n",
              "      <td>1149.939941</td>\n",
              "      <td>1150.623047</td>\n",
              "      <td>1150.623047</td>\n",
              "      <td>0</td>\n",
              "      <td>184.099687</td>\n",
              "      <td>1172.307983</td>\n",
              "      <td>China</td>\n",
              "      <td>Shanghai Stock Exchange</td>\n",
              "      <td>CNY</td>\n",
              "    </tr>\n",
              "    <tr>\n",
              "      <th>35131</th>\n",
              "      <td>000001.SS</td>\n",
              "      <td>7/4/1997</td>\n",
              "      <td>1138.921021</td>\n",
              "      <td>1163.249023</td>\n",
              "      <td>1124.776001</td>\n",
              "      <td>1159.342041</td>\n",
              "      <td>1159.342041</td>\n",
              "      <td>0</td>\n",
              "      <td>185.494727</td>\n",
              "      <td>1144.012512</td>\n",
              "      <td>China</td>\n",
              "      <td>Shanghai Stock Exchange</td>\n",
              "      <td>CNY</td>\n",
              "    </tr>\n",
              "    <tr>\n",
              "      <th>35132</th>\n",
              "      <td>000001.SS</td>\n",
              "      <td>7/7/1997</td>\n",
              "      <td>1161.707031</td>\n",
              "      <td>1163.447021</td>\n",
              "      <td>1085.572021</td>\n",
              "      <td>1096.818970</td>\n",
              "      <td>1096.818970</td>\n",
              "      <td>0</td>\n",
              "      <td>175.491035</td>\n",
              "      <td>1124.509521</td>\n",
              "      <td>China</td>\n",
              "      <td>Shanghai Stock Exchange</td>\n",
              "      <td>CNY</td>\n",
              "    </tr>\n",
              "    <tr>\n",
              "      <th>35133</th>\n",
              "      <td>000001.SS</td>\n",
              "      <td>7/8/1997</td>\n",
              "      <td>1092.798950</td>\n",
              "      <td>1115.432983</td>\n",
              "      <td>1066.043945</td>\n",
              "      <td>1109.666016</td>\n",
              "      <td>1109.666016</td>\n",
              "      <td>0</td>\n",
              "      <td>177.546563</td>\n",
              "      <td>1090.738464</td>\n",
              "      <td>China</td>\n",
              "      <td>Shanghai Stock Exchange</td>\n",
              "      <td>CNY</td>\n",
              "    </tr>\n",
              "  </tbody>\n",
              "</table>\n",
              "</div>"
            ],
            "text/plain": [
              "           Index      Date  ...                 Exchange  Currency\n",
              "35129  000001.SS  7/2/1997  ...  Shanghai Stock Exchange       CNY\n",
              "35130  000001.SS  7/3/1997  ...  Shanghai Stock Exchange       CNY\n",
              "35131  000001.SS  7/4/1997  ...  Shanghai Stock Exchange       CNY\n",
              "35132  000001.SS  7/7/1997  ...  Shanghai Stock Exchange       CNY\n",
              "35133  000001.SS  7/8/1997  ...  Shanghai Stock Exchange       CNY\n",
              "\n",
              "[5 rows x 13 columns]"
            ]
          },
          "metadata": {
            "tags": []
          },
          "execution_count": 128
        }
      ]
    },
    {
      "cell_type": "markdown",
      "metadata": {
        "id": "XY4BTSXM9PwW"
      },
      "source": [
        ""
      ]
    },
    {
      "cell_type": "code",
      "metadata": {
        "colab": {
          "base_uri": "https://localhost:8080/",
          "height": 774
        },
        "id": "hz2JYrdP_PX6",
        "outputId": "63cbda5c-26ac-4ce1-e826-6d4e111d21dc"
      },
      "source": [
        " \n",
        "ax = sns.lineplot(data=df_outercu, x=\"Date\", y=\"Daily Average\", ci=None, hue='Region')\n"
      ],
      "execution_count": null,
      "outputs": [
        {
          "output_type": "display_data",
          "data": {
            "image/png": "[encoded data removed]",
            "text/plain": [
              "<Figure size 1440x936 with 1 Axes>"
            ]
          },
          "metadata": {
            "tags": []
          }
        }
      ]
    },
    {
      "cell_type": "code",
      "metadata": {
        "colab": {
          "base_uri": "https://localhost:8080/",
          "height": 774
        },
        "id": "nLgKZfsbB3LL",
        "outputId": "19753ec4-0801-475b-b02c-6f464b719668"
      },
      "source": [
        "ax = sns.lineplot(data=df_outercg, x=\"Date\", y=\"Daily Average\", ci =None, hue='Region')\n"
      ],
      "execution_count": null,
      "outputs": [
        {
          "output_type": "display_data",
          "data": {
            "image/png": "[encoded data removed]",
            "text/plain": [
              "<Figure size 1440x936 with 1 Axes>"
            ]
          },
          "metadata": {
            "tags": []
          }
        }
      ]
    },
    {
      "cell_type": "markdown",
      "metadata": {
        "id": "EV01_e0F8bAM"
      },
      "source": [
        "Recommendation: Investment strategies depend on what the investment managers are looking for. If you are making an investment into the Chinese Stock Market index a good diversification strategy would be to buy the German Stock Market Index, and USA Stock Market Index. This option is good for the investor wanting to make steady returns and take very little risk.  "
      ]
    }
  ]
}